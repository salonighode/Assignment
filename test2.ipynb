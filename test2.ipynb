{
 "cells": [
  {
   "cell_type": "markdown",
   "id": "a1994e39-13b9-41d3-9aa2-df75496fde4f",
   "metadata": {},
   "source": [
    "## 1. Find the 2nd largest and 2nd smallest element in a list."
   ]
  },
  {
   "cell_type": "code",
   "execution_count": 1,
   "id": "aaea2898-ff6f-4b5a-88a3-171bedc530d0",
   "metadata": {},
   "outputs": [
    {
     "name": "stdout",
     "output_type": "stream",
     "text": [
      "2nd largest: 9\n",
      "2nd smallest: 2\n"
     ]
    }
   ],
   "source": [
    "l = [1,2,4,3,8,7,6,5,9,10]\n",
    "l1= l[-2]\n",
    "l2= l[1]\n",
    "print(\"2nd largest:\", l1)\n",
    "print(\"2nd smallest:\", l2)"
   ]
  },
  {
   "cell_type": "markdown",
   "id": "69133e24-88da-4bd4-825a-f283362988a6",
   "metadata": {},
   "source": [
    "## 2. Find the key with the largest value in a dictionary."
   ]
  },
  {
   "cell_type": "code",
   "execution_count": 62,
   "id": "884d3013-f15b-4f83-99be-7973d6832850",
   "metadata": {},
   "outputs": [
    {
     "ename": "NameError",
     "evalue": "name 'keys' is not defined",
     "output_type": "error",
     "traceback": [
      "\u001b[1;31m---------------------------------------------------------------------------\u001b[0m",
      "\u001b[1;31mNameError\u001b[0m                                 Traceback (most recent call last)",
      "Cell \u001b[1;32mIn[62], line 2\u001b[0m\n\u001b[0;32m      1\u001b[0m d \u001b[38;5;241m=\u001b[39m {\u001b[38;5;124m\"\u001b[39m\u001b[38;5;124ma\u001b[39m\u001b[38;5;124m\"\u001b[39m: \u001b[38;5;241m2\u001b[39m, \u001b[38;5;124m\"\u001b[39m\u001b[38;5;124mb\u001b[39m\u001b[38;5;124m\"\u001b[39m: \u001b[38;5;241m8\u001b[39m, \u001b[38;5;124m\"\u001b[39m\u001b[38;5;124mc\u001b[39m\u001b[38;5;124m\"\u001b[39m: \u001b[38;5;241m7\u001b[39m}\n\u001b[1;32m----> 2\u001b[0m max_v \u001b[38;5;241m=\u001b[39m (d,keys\u001b[38;5;241m.\u001b[39md\u001b[38;5;241m.\u001b[39mget)\n\u001b[0;32m      3\u001b[0m \u001b[38;5;28mprint\u001b[39m(max_v)\n",
      "\u001b[1;31mNameError\u001b[0m: name 'keys' is not defined"
     ]
    }
   ],
   "source": [
    "d = {\"a\": 2, \"b\": 8, \"c\": 7}\n",
    "max_v = (d,keys.d.get)\n",
    "print(max_v)"
   ]
  },
  {
   "cell_type": "code",
   "execution_count": null,
   "id": "17436c07-2d6c-4075-9d7c-42b6dc4c0897",
   "metadata": {},
   "outputs": [],
   "source": []
  },
  {
   "cell_type": "markdown",
   "id": "635a64bb-377f-4441-845a-7f14323a0523",
   "metadata": {},
   "source": [
    "## 3. Create a new folder using os module and create a file inside it.f2"
   ]
  },
  {
   "cell_type": "code",
   "execution_count": 17,
   "id": "76ba421d-6fb7-4b28-af62-553fa2433bcf",
   "metadata": {},
   "outputs": [],
   "source": [
    "import os"
   ]
  },
  {
   "cell_type": "code",
   "execution_count": 20,
   "id": "fbe43ea5-971c-482e-9911-2b63146cb59a",
   "metadata": {},
   "outputs": [
    {
     "data": {
      "text/plain": [
       "'C:\\\\Users\\\\salon'"
      ]
     },
     "execution_count": 20,
     "metadata": {},
     "output_type": "execute_result"
    }
   ],
   "source": [
    "os.getcwd()"
   ]
  },
  {
   "cell_type": "code",
   "execution_count": 53,
   "id": "937424c9-0e2f-4763-8588-3f65f81d9dd1",
   "metadata": {},
   "outputs": [
    {
     "name": "stderr",
     "output_type": "stream",
     "text": [
      "UsageError: Cell magic `%%writefile.new.txt` not found.\n"
     ]
    }
   ],
   "source": [
    "%%writefile.new.txt\n",
    "readfile.nwe.txt"
   ]
  },
  {
   "cell_type": "markdown",
   "id": "e7d23e81-eeeb-4c30-be50-47264a0e34b8",
   "metadata": {},
   "source": [
    "## 4. Write a recursive function to calculate Fibonacci series up to n terms. "
   ]
  },
  {
   "cell_type": "code",
   "execution_count": null,
   "id": "5659b11c-45ec-44c1-ae9f-6a2f3d4407ec",
   "metadata": {},
   "outputs": [],
   "source": []
  },
  {
   "cell_type": "markdown",
   "id": "4ce253ae-d8e1-4f7f-8f4a-ebb2ce5ca37f",
   "metadata": {},
   "source": [
    "## 5. Use a lambda with map() to convert a list of integers into their cubes. "
   ]
  },
  {
   "cell_type": "code",
   "execution_count": 59,
   "id": "47ee430f-533f-4c51-bde9-a5d559ce01b9",
   "metadata": {},
   "outputs": [
    {
     "ename": "SyntaxError",
     "evalue": "invalid syntax (2313617133.py, line 2)",
     "output_type": "error",
     "traceback": [
      "\u001b[1;36m  Cell \u001b[1;32mIn[59], line 2\u001b[1;36m\u001b[0m\n\u001b[1;33m    lis = [lambda x in x**2]\u001b[0m\n\u001b[1;37m                    ^\u001b[0m\n\u001b[1;31mSyntaxError\u001b[0m\u001b[1;31m:\u001b[0m invalid syntax\n"
     ]
    }
   ],
   "source": [
    "l1 = [1,2,3,4,5,6,7,8,9]\n",
    "lis = [lambda x in x**2 ]"
   ]
  },
  {
   "cell_type": "markdown",
   "id": "6fb165b8-69a4-4320-a797-106abddc62e2",
   "metadata": {},
   "source": [
    "## 6. Create a class Employee that increases salary by 10%."
   ]
  },
  {
   "cell_type": "code",
   "execution_count": null,
   "id": "54aa6d0c-ac29-4678-a167-91be989f7a0f",
   "metadata": {},
   "outputs": [],
   "source": [
    "class Employee:\n",
    "    def salary():\n",
    "        s = salary \n",
    "        \n",
    "    \n",
    "    "
   ]
  },
  {
   "cell_type": "markdown",
   "id": "4445b102-e023-4493-9945-ca2667579c70",
   "metadata": {},
   "source": [
    "## 7. Write a program to print the date 30 days from today. \n"
   ]
  },
  {
   "cell_type": "code",
   "execution_count": 32,
   "id": "2de04765-0735-4eb1-bbeb-213e772bcb31",
   "metadata": {},
   "outputs": [
    {
     "name": "stdout",
     "output_type": "stream",
     "text": [
      "Today's Date: 2025-09-16\n",
      "Date after 30 days 2025-10-16\n"
     ]
    }
   ],
   "source": [
    "import datetime\n",
    "today=datetime.date.today()\n",
    "print(\"Today's Date:\", today)\n",
    "onemonth=today+datetime.timedelta(days=30)\n",
    "print(\"Date after 30 days\", onemonth)"
   ]
  },
  {
   "cell_type": "markdown",
   "id": "080004a9-7445-4e49-8d5a-1a2517de17ae",
   "metadata": {},
   "source": [
    "## 8. Write a program to convert radians to degrees and vice versa."
   ]
  },
  {
   "cell_type": "code",
   "execution_count": 50,
   "id": "9ee9927c-af7f-4b4b-8696-7f24738854fa",
   "metadata": {},
   "outputs": [
    {
     "name": "stdout",
     "output_type": "stream",
     "text": [
      "degree: 31.0\n"
     ]
    }
   ],
   "source": [
    "import math \n",
    "r = math.radians(31)\n",
    "d = math.degrees(r)\n",
    "print(\"degree:\", d)\n"
   ]
  },
  {
   "cell_type": "markdown",
   "id": "383d5fe9-feec-43aa-b462-593fd1d2136f",
   "metadata": {},
   "source": [
    "## 9.  Write a regex to validate if a string is a valid Indian mobile number (10 digits)."
   ]
  },
  {
   "cell_type": "code",
   "execution_count": null,
   "id": "a893f3b2-3e14-4905-8dda-87611c5c6582",
   "metadata": {},
   "outputs": [],
   "source": [
    "n = 916789012345,918901234567,9012345678\n"
   ]
  },
  {
   "cell_type": "markdown",
   "id": "5ef2f9ac-1e88-44b1-b92d-45dd4f8e47a5",
   "metadata": {},
   "source": [
    "## 10. Create a class Bank with encapsulated methods to show account details securely. "
   ]
  },
  {
   "cell_type": "code",
   "execution_count": null,
   "id": "689eaea3-5bc6-498c-8aee-a54fdc7f8d88",
   "metadata": {},
   "outputs": [],
   "source": []
  }
 ],
 "metadata": {
  "kernelspec": {
   "display_name": "Python [conda env:base] *",
   "language": "python",
   "name": "conda-base-py"
  },
  "language_info": {
   "codemirror_mode": {
    "name": "ipython",
    "version": 3
   },
   "file_extension": ".py",
   "mimetype": "text/x-python",
   "name": "python",
   "nbconvert_exporter": "python",
   "pygments_lexer": "ipython3",
   "version": "3.13.5"
  }
 },
 "nbformat": 4,
 "nbformat_minor": 5
}
