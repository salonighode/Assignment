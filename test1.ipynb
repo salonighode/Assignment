{
 "cells": [
  {
   "cell_type": "markdown",
   "id": "e0838bd1-bed8-41bf-b936-d8535d1271f7",
   "metadata": {},
   "source": [
    "## 1. Second Largest Without Sorting\n",
    "## Write a program to find the second largest number in a list without using sort() or max() more than once."
   ]
  },
  {
   "cell_type": "code",
   "execution_count": 2,
   "id": "79d86fb3-a25d-4fd7-a32c-cf27fdc01e16",
   "metadata": {},
   "outputs": [
    {
     "name": "stdout",
     "output_type": "stream",
     "text": [
      "9\n"
     ]
    }
   ],
   "source": [
    "l1 = [1,2,3,4,5,6,7,8,9,10]\n",
    "second_largest = l1[-2]\n",
    "print(second_largest)"
   ]
  },
  {
   "cell_type": "markdown",
   "id": "4957d447-0f17-42d3-b7a8-f8434cd586f7",
   "metadata": {},
   "source": [
    "## 2. Missing Number in Range\n",
    "## Input: a list of unique numbers from 1 to n (with one missing). Find the missing number using loops only.\n",
    "Example: [1, 2, 4, 5] → Output: 3\n"
   ]
  },
  {
   "cell_type": "code",
   "execution_count": null,
   "id": "44a756e9-995e-4a43-91e4-4643cd06673d",
   "metadata": {},
   "outputs": [],
   "source": []
  },
  {
   "cell_type": "markdown",
   "id": "72bd8d3f-05b4-4826-92cc-cc049b63db2f",
   "metadata": {},
   "source": [
    "## 3. Count Consecutive Characters\n",
    "## For a given string, count consecutive repeating characters and compress it.\n",
    "Example: \"aaabbccccd\" → \"a3b2c4d1\""
   ]
  },
  {
   "cell_type": "code",
   "execution_count": null,
   "id": "eb3bceb1-a56a-4888-8771-3322914e2a5a",
   "metadata": {},
   "outputs": [],
   "source": []
  },
  {
   "cell_type": "code",
   "execution_count": null,
   "id": "db22c7fe-9be9-40e0-8c71-5e42c59ac5b0",
   "metadata": {},
   "outputs": [],
   "source": []
  },
  {
   "cell_type": "markdown",
   "id": "e9e88ea5-b269-4eb3-a8a0-d41ef116a987",
   "metadata": {},
   "source": [
    "## 4. Check Balanced String\n",
    "## A string is balanced if the number of vowels equals the number of consonants.\n",
    "Example: \"code\" → Balanced (2 vowels, 2 consonants).\n"
   ]
  },
  {
   "cell_type": "code",
   "execution_count": 22,
   "id": "08c45ec7-194b-42b9-b5b7-e55aaddf5c7e",
   "metadata": {},
   "outputs": [
    {
     "name": "stdin",
     "output_type": "stream",
     "text": [
      "enter a string code\n"
     ]
    },
    {
     "ename": "ValueError",
     "evalue": "invalid literal for int() with base 10: 'code'",
     "output_type": "error",
     "traceback": [
      "\u001b[1;31m---------------------------------------------------------------------------\u001b[0m",
      "\u001b[1;31mValueError\u001b[0m                                Traceback (most recent call last)",
      "Cell \u001b[1;32mIn[22], line 2\u001b[0m\n\u001b[0;32m      1\u001b[0m v \u001b[38;5;241m=\u001b[39m \u001b[38;5;124m\"\u001b[39m\u001b[38;5;124maeiou\u001b[39m\u001b[38;5;124m\"\u001b[39m\n\u001b[1;32m----> 2\u001b[0m vowels \u001b[38;5;241m=\u001b[39m \u001b[38;5;28mint\u001b[39m(\u001b[38;5;28minput\u001b[39m(\u001b[38;5;124m\"\u001b[39m\u001b[38;5;124menter a string\u001b[39m\u001b[38;5;124m\"\u001b[39m))\n\u001b[0;32m      3\u001b[0m \u001b[38;5;28mstr\u001b[39m \u001b[38;5;241m=\u001b[39m vowels(v)\n\u001b[0;32m      4\u001b[0m \u001b[38;5;28mprint\u001b[39m(\u001b[38;5;28mstr\u001b[39m)\n",
      "\u001b[1;31mValueError\u001b[0m: invalid literal for int() with base 10: 'code'"
     ]
    }
   ],
   "source": [
    "v = \"aeiou\"\n",
    "vowels = int(input(\"enter a string\"))\n",
    "str = vowels(v)\n",
    "print(str)\n",
    "\n"
   ]
  },
  {
   "cell_type": "markdown",
   "id": "44c9b48c-30b1-4a49-88bf-40d0289dc5d2",
   "metadata": {},
   "source": [
    "## 5. List Element Difference\n",
    "## Given a list, create a new list where each element is the difference between the largest element and the current element.\n",
    "Example: [4, 7, 2] → [3, 0, 5]"
   ]
  },
  {
   "cell_type": "code",
   "execution_count": 9,
   "id": "086ac063-96ee-424b-b917-ce678e7a2705",
   "metadata": {},
   "outputs": [
    {
     "ename": "TypeError",
     "evalue": "unsupported operand type(s) for -: 'list' and 'int'",
     "output_type": "error",
     "traceback": [
      "\u001b[1;31m---------------------------------------------------------------------------\u001b[0m",
      "\u001b[1;31mTypeError\u001b[0m                                 Traceback (most recent call last)",
      "Cell \u001b[1;32mIn[9], line 3\u001b[0m\n\u001b[0;32m      1\u001b[0m l2 \u001b[38;5;241m=\u001b[39m [\u001b[38;5;241m7\u001b[39m,\u001b[38;5;241m7\u001b[39m,\u001b[38;5;241m7\u001b[39m]\n\u001b[0;32m      2\u001b[0m l3 \u001b[38;5;241m=\u001b[39m [\u001b[38;5;241m4\u001b[39m,\u001b[38;5;241m7\u001b[39m,\u001b[38;5;241m2\u001b[39m]\n\u001b[1;32m----> 3\u001b[0m dif \u001b[38;5;241m=\u001b[39m l2\u001b[38;5;241m-\u001b[39m\u001b[38;5;241m13\u001b[39m\n\u001b[0;32m      4\u001b[0m \u001b[38;5;28mprint\u001b[39m(dif)\n",
      "\u001b[1;31mTypeError\u001b[0m: unsupported operand type(s) for -: 'list' and 'int'"
     ]
    }
   ],
   "source": [
    "l2 = [7,7,7]\n",
    "l3 = [4,7,2]\n",
    "dif = l2-13\n",
    "print(dif)"
   ]
  },
  {
   "cell_type": "markdown",
   "id": "6dfcf715-925c-4534-baec-77cc3534d2a3",
   "metadata": {},
   "source": [
    "## 6. Digit Rearrangement\n",
    "## Take an integer and rearrange its digits in descending order.\n",
    "Example: 42153 → 54321\n"
   ]
  },
  {
   "cell_type": "code",
   "execution_count": 8,
   "id": "08b6427f-c014-47f8-9dff-ff4e87d3228a",
   "metadata": {},
   "outputs": [
    {
     "name": "stdin",
     "output_type": "stream",
     "text": [
      "enter a number 42153\n"
     ]
    },
    {
     "name": "stdout",
     "output_type": "stream",
     "text": [
      "35124\n"
     ]
    }
   ],
   "source": [
    "digit = (input(\"enter a number\"))\n",
    "desecding_order = digit[::-1]\n",
    "print(desecding_order)"
   ]
  },
  {
   "cell_type": "markdown",
   "id": "722e5a12-f6bf-4d94-ab25-b53bd268ff08",
   "metadata": {},
   "source": [
    "## 7. Sum of Alternate Numbers\n",
    "## Given a list of integers, find the sum of elements at even indices and at odd indices separately, then print which sum is larger."
   ]
  },
  {
   "cell_type": "code",
   "execution_count": 21,
   "id": "de0f5a40-7761-4ecc-87d3-1abf771fc155",
   "metadata": {},
   "outputs": [],
   "source": [
    "list = [1,2,3,4,5,6,7,8,9,10]\n",
    "x = 0\n",
    "def list():\n",
    "   if x % 2:\n",
    "    print(\"even indices:\",{list})\n",
    "   else:\n",
    "    print(\"odd indices:\", {list})"
   ]
  },
  {
   "cell_type": "markdown",
   "id": "014ab3e8-0070-4c2e-a72e-9c4a87832165",
   "metadata": {},
   "source": [
    "## 8. Flatten a Nested List\n",
    "## Without using libraries, flatten a 2D list into a 1D list.\n",
    "Example: [[1,2], [3,4], [5]] → [1,2,3,4,5]"
   ]
  },
  {
   "cell_type": "code",
   "execution_count": 30,
   "id": "73e16fd3-fa75-431b-a858-94621da76bde",
   "metadata": {},
   "outputs": [
    {
     "data": {
      "text/plain": [
       "[1, 2, 3, 4, 5]"
      ]
     },
     "execution_count": 30,
     "metadata": {},
     "output_type": "execute_result"
    }
   ],
   "source": [
    "l = [[1,2], [3,4], [5]] \n",
    "[v for i in l for v in i] \n",
    "\n",
    "\n"
   ]
  },
  {
   "cell_type": "code",
   "execution_count": 23,
   "id": "b3b397d5-6909-4fb8-a408-b32ab65ba24c",
   "metadata": {},
   "outputs": [],
   "source": [
    "#9\n",
    "s = \"swiss\"\n",
    "freq = {}\n",
    "for char in s:\n",
    "    if char in freq:\n",
    "        freq[char] += 1\n",
    "    else:\n",
    "        freq[char] = 1"
   ]
  },
  {
   "cell_type": "markdown",
   "id": "59f99d56-1c19-45dc-b10e-0a2cf7eb134f",
   "metadata": {},
   "source": [
    "## 10. Intersection of Two Lists\n",
    "## Without using set(), find common elements between two lists.\n"
   ]
  },
  {
   "cell_type": "code",
   "execution_count": 33,
   "id": "e66732a0-e1a7-468f-830b-e95b1819c301",
   "metadata": {},
   "outputs": [],
   "source": [
    "l2 = [7,7,7]\n",
    "l3 = [4,7,2]\n",
    "com_element = [x for x in l2 if x in l3]\n",
    "\n"
   ]
  },
  {
   "cell_type": "markdown",
   "id": "4acb91a0-fa79-447a-a498-58adb8b2f1d3",
   "metadata": {},
   "source": [
    "## 11. Count Words Starting with Vowel\n",
    "## Given a sentence, count how many words start with a vowel.\n",
    "Example: \"An elephant is under a tree\" → 3"
   ]
  },
  {
   "cell_type": "code",
   "execution_count": null,
   "id": "4749b7c4-a05b-4218-93c8-6c8257271238",
   "metadata": {},
   "outputs": [],
   "source": [
    "s = \"An elephant is under a tree\""
   ]
  },
  {
   "cell_type": "markdown",
   "id": "960d698a-361e-4a12-ae01-d167afb786c3",
   "metadata": {},
   "source": [
    "## 12. Pattern with Conditions\n",
    "## Print a pyramid of numbers where each row contains only odd numbers up to n.\n",
    "Example (n=5):"
   ]
  },
  {
   "cell_type": "code",
   "execution_count": 28,
   "id": "1761bf5e-ca28-40dc-9fc9-2a4a6bdcef6c",
   "metadata": {},
   "outputs": [],
   "source": [
    "n = 5\n",
    "add = []\n",
    "for i in range(1, n+1):\n",
    "    if i % 2 != 0:\n",
    "       add.append(i)"
   ]
  },
  {
   "cell_type": "code",
   "execution_count": null,
   "id": "dacc6d0b-28aa-48d9-a081-d9fcff345193",
   "metadata": {},
   "outputs": [],
   "source": []
  },
  {
   "cell_type": "code",
   "execution_count": null,
   "id": "b33addfa-5b92-4802-8516-3181162f1ce3",
   "metadata": {},
   "outputs": [],
   "source": []
  },
  {
   "cell_type": "code",
   "execution_count": null,
   "id": "35de6df7-d65a-42a9-9d06-f39c649718e2",
   "metadata": {},
   "outputs": [],
   "source": []
  },
  {
   "cell_type": "code",
   "execution_count": null,
   "id": "77b45a91-600b-44a4-a0d2-737bfd736ec7",
   "metadata": {},
   "outputs": [],
   "source": []
  }
 ],
 "metadata": {
  "kernelspec": {
   "display_name": "Python [conda env:base] *",
   "language": "python",
   "name": "conda-base-py"
  },
  "language_info": {
   "codemirror_mode": {
    "name": "ipython",
    "version": 3
   },
   "file_extension": ".py",
   "mimetype": "text/x-python",
   "name": "python",
   "nbconvert_exporter": "python",
   "pygments_lexer": "ipython3",
   "version": "3.13.5"
  }
 },
 "nbformat": 4,
 "nbformat_minor": 5
}
