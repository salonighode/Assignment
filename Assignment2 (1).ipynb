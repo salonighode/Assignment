{
 "cells": [
  {
   "cell_type": "markdown",
   "id": "82839c2f-5dc5-475d-9254-77a6f4cc5824",
   "metadata": {},
   "source": [
    "## 1. User-Defined Function (5 Questions)"
   ]
  },
  {
   "cell_type": "markdown",
   "id": "cf48dd02-5e41-4d6b-90a1-0d30462cdcbf",
   "metadata": {},
   "source": [
    "## 1.Write a function to calculate the factorial of a number (without recursion)."
   ]
  },
  {
   "cell_type": "code",
   "execution_count": 16,
   "id": "6ced24bd-d802-44e3-90c1-eeca879cbb36",
   "metadata": {},
   "outputs": [],
   "source": [
    "def factorial(n):\n",
    "    \"\"\"\n",
    "    Calculate the factorial of a non-negative integer n.\n",
    "\n",
    "    Parameters:\n",
    "    n (int): The number to calculate the factorial for.\n",
    "\n",
    "    Returns:\n",
    "    int: The factorial of n.\n",
    "    \"\"\"\n",
    "    if n < 0:\n",
    "        raise ValueError(\"Factorial is not defined for negative numbers\")\n",
    "    if n == 0 or n == 1:\n",
    "        return 1\n",
    "    return n * factorial(n - 1)"
   ]
  },
  {
   "cell_type": "code",
   "execution_count": 17,
   "id": "f15d9c6f-f047-4e11-b32a-4c65e5cdef1c",
   "metadata": {},
   "outputs": [
    {
     "data": {
      "text/plain": [
       "120"
      ]
     },
     "execution_count": 17,
     "metadata": {},
     "output_type": "execute_result"
    }
   ],
   "source": [
    "factorial(5)"
   ]
  },
  {
   "cell_type": "markdown",
   "id": "ccde44b5-1479-4c63-98b0-4ec684a19667",
   "metadata": {},
   "source": [
    "## 2.Write a function to check if a number is Armstrong or not."
   ]
  },
  {
   "cell_type": "code",
   "execution_count": 18,
   "id": "cce28eaf-1323-4371-ba33-388e041ded39",
   "metadata": {},
   "outputs": [
    {
     "name": "stdin",
     "output_type": "stream",
     "text": [
      "Enter a number:  153\n"
     ]
    },
    {
     "name": "stdout",
     "output_type": "stream",
     "text": [
      "153 is an Armstrong number.\n"
     ]
    }
   ],
   "source": [
    "def armstrong(num):\n",
    "    digit = str(num)\n",
    "    power = len(digit)\n",
    "    total = sum(int(i)**power for i in digit)\n",
    "    return num==total\n",
    "    \n",
    "n = int(input(\"Enter a number: \"))\n",
    "if armstrong(n):\n",
    "    print(f\"{n} is an Armstrong number.\")\n",
    "else:\n",
    "    print(f\"{n} is NOT an Armstrong number.\")\n"
   ]
  },
  {
   "cell_type": "markdown",
   "id": "c92c502f-ebb7-437b-9b6c-ab479d6c2771",
   "metadata": {},
   "source": [
    "## 3.Write a function that takes a list of numbers and returns only even numbers."
   ]
  },
  {
   "cell_type": "code",
   "execution_count": 2,
   "id": "0b9f0bc9-053a-4f11-b240-add80f27fe33",
   "metadata": {},
   "outputs": [],
   "source": [
    "is_even_list = [lambda arg=x: arg * 10 for x in range(1, 5)]"
   ]
  },
  {
   "cell_type": "code",
   "execution_count": 3,
   "id": "0103fb59-62da-4ed8-9005-e7bfee672816",
   "metadata": {},
   "outputs": [
    {
     "data": {
      "text/plain": [
       "[<function __main__.<lambda>(arg=1)>,\n",
       " <function __main__.<lambda>(arg=2)>,\n",
       " <function __main__.<lambda>(arg=3)>,\n",
       " <function __main__.<lambda>(arg=4)>]"
      ]
     },
     "execution_count": 3,
     "metadata": {},
     "output_type": "execute_result"
    }
   ],
   "source": [
    "is_even_list"
   ]
  },
  {
   "cell_type": "code",
   "execution_count": 4,
   "id": "19e34d21-83a9-44bc-8642-4126a8f822c1",
   "metadata": {},
   "outputs": [
    {
     "name": "stdout",
     "output_type": "stream",
     "text": [
      "10\n",
      "20\n",
      "30\n",
      "40\n"
     ]
    }
   ],
   "source": [
    "for item in is_even_list:\n",
    "    print(item())"
   ]
  },
  {
   "cell_type": "markdown",
   "id": "910b29ff-2702-4b97-be89-1c878156c49a",
   "metadata": {},
   "source": [
    "## 4.Write a function that takes a string and returns the reverse of the string."
   ]
  },
  {
   "cell_type": "code",
   "execution_count": 5,
   "id": "2a966c56-31ce-420a-b6ba-314ca8ec0adb",
   "metadata": {},
   "outputs": [
    {
     "name": "stdout",
     "output_type": "stream",
     "text": [
      "ecneics atad\n"
     ]
    }
   ],
   "source": [
    "strvar = \"data science\"\n",
    "rev = strvar[::-1]\n",
    "print(rev)"
   ]
  },
  {
   "cell_type": "markdown",
   "id": "3b06ba94-5fd1-4267-80b4-e8cd6df58a03",
   "metadata": {},
   "source": [
    "## 5.Write a recursive function to calculate Fibonacci series up to n terms."
   ]
  },
  {
   "cell_type": "code",
   "execution_count": 21,
   "id": "bc88d154-6258-4cbe-9135-d3be361db14f",
   "metadata": {},
   "outputs": [],
   "source": [
    "def fibonacci(n):\n",
    "    a= 0\n",
    "    b =1\n",
    "    for i in range(n):\n",
    "        print(b, end = \" \")\n",
    "        a,b =b,a+b"
   ]
  },
  {
   "cell_type": "code",
   "execution_count": 22,
   "id": "db31733b-3636-432e-b7a7-813a06d15890",
   "metadata": {},
   "outputs": [
    {
     "name": "stdout",
     "output_type": "stream",
     "text": [
      "1 1 2 3 5 8 13 21 34 55 "
     ]
    }
   ],
   "source": [
    "fibonacci(10)"
   ]
  },
  {
   "cell_type": "markdown",
   "id": "fd79b1ea-1f64-4e85-a69b-23507acf5fe9",
   "metadata": {},
   "source": [
    "## 2. Lambda Function (5 Questions)"
   ]
  },
  {
   "cell_type": "markdown",
   "id": "507096b0-445c-4b57-b3b9-2f2038157faa",
   "metadata": {},
   "source": [
    "## 6.Write a lambda function to find the maximum of two numbers."
   ]
  },
  {
   "cell_type": "code",
   "execution_count": 24,
   "id": "0ccc8298-dcfa-46af-9903-769c46a05fe4",
   "metadata": {},
   "outputs": [],
   "source": [
    "Max = lambda a, b : a if(a > b) else b"
   ]
  },
  {
   "cell_type": "code",
   "execution_count": 25,
   "id": "90d41ed6-a6ff-46ad-a59d-1c84dacf8305",
   "metadata": {},
   "outputs": [
    {
     "data": {
      "text/plain": [
       "64435"
      ]
     },
     "execution_count": 25,
     "metadata": {},
     "output_type": "execute_result"
    }
   ],
   "source": [
    "Max(564, 64435)"
   ]
  },
  {
   "cell_type": "markdown",
   "id": "8d559d1a-51cb-4e09-9aea-720020f77822",
   "metadata": {},
   "source": [
    "## 7.Write a lambda function to count vowels in a given string."
   ]
  },
  {
   "cell_type": "code",
   "execution_count": 26,
   "id": "5ad5478e-e761-4f78-b9b4-91a4a30585c1",
   "metadata": {},
   "outputs": [
    {
     "name": "stdout",
     "output_type": "stream",
     "text": [
      "3\n"
     ]
    }
   ],
   "source": [
    "v = \"aeiou\"\n",
    "cou = lambda x : sum(1 for i in x if i in v)\n",
    "print(cou(\"programming\"))"
   ]
  },
  {
   "cell_type": "markdown",
   "id": "1b4a7a8e-bbd9-4ed6-93b0-34c003dbf8a0",
   "metadata": {},
   "source": [
    "## 8.Use a lambda with map() to convert a list of integers into their cubes."
   ]
  },
  {
   "cell_type": "code",
   "execution_count": 2,
   "id": "d7dab75e-10f9-44df-903e-4855e5e5d585",
   "metadata": {},
   "outputs": [
    {
     "data": {
      "text/plain": [
       "[1, 8, 27, 64, 125]"
      ]
     },
     "execution_count": 2,
     "metadata": {},
     "output_type": "execute_result"
    }
   ],
   "source": [
    "numbers = [1, 2, 3, 4, 5]\n",
    "list(map(lambda x: x**3, numbers))"
   ]
  },
  {
   "cell_type": "markdown",
   "id": "1ae39840-cd98-4ad6-987f-c1d18f42975d",
   "metadata": {},
   "source": [
    "## 9.Use a lambda with filter() to find numbers divisible by 5 from a list."
   ]
  },
  {
   "cell_type": "code",
   "execution_count": 3,
   "id": "a3e1f0d2-f849-433a-96a3-2619871dbf10",
   "metadata": {},
   "outputs": [
    {
     "data": {
      "text/plain": [
       "[10, 15, 20, 25, 30, 35]"
      ]
     },
     "execution_count": 3,
     "metadata": {},
     "output_type": "execute_result"
    }
   ],
   "source": [
    "numbers = [10, 13, 15, 20, 23, 25, 30, 33, 35]\n",
    "list(filter(lambda x: x % 5 == 0, numbers))"
   ]
  },
  {
   "cell_type": "markdown",
   "id": "bac21c0b-0b16-4599-8217-d0052450e54c",
   "metadata": {},
   "source": [
    "## 10.Use reduce() with lambda to find the product of all numbers in a list."
   ]
  },
  {
   "cell_type": "code",
   "execution_count": 6,
   "id": "9afc66d5-f13e-4627-892f-6ac1c5f4e46c",
   "metadata": {},
   "outputs": [
    {
     "data": {
      "text/plain": [
       "120"
      ]
     },
     "execution_count": 6,
     "metadata": {},
     "output_type": "execute_result"
    }
   ],
   "source": [
    "from functools import reduce\n",
    "numbers = [2, 3, 4, 5]\n",
    "reduce(lambda x, y: x * y, numbers)"
   ]
  },
  {
   "cell_type": "markdown",
   "id": "675c9de8-0ffb-49e0-b806-845158d4426a",
   "metadata": {},
   "source": [
    "## 3. List Comprehension (5 Questions)"
   ]
  },
  {
   "cell_type": "markdown",
   "id": "7931c162-5128-47bd-b943-94e1cab57fbc",
   "metadata": {},
   "source": [
    "## 11.Create a list of squares of numbers from 1 to 20 using list comprehension."
   ]
  },
  {
   "cell_type": "code",
   "execution_count": 1,
   "id": "40ae3111-4538-4b51-a04c-9eb0149c3627",
   "metadata": {},
   "outputs": [
    {
     "data": {
      "text/plain": [
       "[0, 1, 4, 9, 16, 25, 36, 49, 64, 81]"
      ]
     },
     "execution_count": 1,
     "metadata": {},
     "output_type": "execute_result"
    }
   ],
   "source": [
    "[i**2 for i in range(10)]"
   ]
  },
  {
   "cell_type": "markdown",
   "id": "983a1646-d6dc-42b7-9102-ac544f20d662",
   "metadata": {},
   "source": [
    "## 12.Extract all words starting with vowel from a list of words."
   ]
  },
  {
   "cell_type": "code",
   "execution_count": 27,
   "id": "3788a7be-d4a1-487a-a454-32485cf74b8e",
   "metadata": {},
   "outputs": [
    {
     "name": "stdin",
     "output_type": "stream",
     "text": [
      "Enter your string :  programming\n"
     ]
    },
    {
     "name": "stdout",
     "output_type": "stream",
     "text": [
      "['o', 'a', 'i']\n"
     ]
    }
   ],
   "source": [
    "stri = input(\"Enter your string : \").lower()\n",
    "count = []\n",
    "vowels = \"aeiou\"\n",
    "\n",
    "k = [ count.append(i) for i in stri if i in vowels]\n",
    "print(count)"
   ]
  },
  {
   "cell_type": "markdown",
   "id": "a0de3770-cb01-49ea-9943-bcdbd096b4c5",
   "metadata": {},
   "source": [
    "## 13.Generate a list of tuples (x, x^2) for numbers from 1 to 10."
   ]
  },
  {
   "cell_type": "code",
   "execution_count": 1,
   "id": "8853195b-71e1-436b-8a52-62184ca6200b",
   "metadata": {},
   "outputs": [
    {
     "name": "stdout",
     "output_type": "stream",
     "text": [
      "[(1, 1), (2, 4), (3, 9), (4, 16), (5, 25), (6, 36), (7, 49), (8, 64), (9, 81), (10, 100)]\n"
     ]
    }
   ],
   "source": [
    "l1=[1,11]\n",
    "list=[(x, x**2) for x in range(1,11)]\n",
    "print(list)"
   ]
  },
  {
   "cell_type": "markdown",
   "id": "f3a6f2a6-5073-4bfc-96d0-81bc65b05630",
   "metadata": {},
   "source": [
    "## 14.Flatten a 2D list using list comprehension."
   ]
  },
  {
   "cell_type": "code",
   "execution_count": 2,
   "id": "e80d42c3-b81a-47f2-b16b-3f96436b4f15",
   "metadata": {},
   "outputs": [
    {
     "data": {
      "text/plain": [
       "[1, 2, 3, 4, 5, 6]"
      ]
     },
     "execution_count": 2,
     "metadata": {},
     "output_type": "execute_result"
    }
   ],
   "source": [
    "nested = [[1,2],[3,4],[5,6]]\n",
    "[x for sub in nested for x in sub]"
   ]
  },
  {
   "cell_type": "markdown",
   "id": "563e1cd7-7f3d-40be-a0bd-7417e374fffb",
   "metadata": {},
   "source": [
    "## 15.Create a list of prime numbers between 1 and 50 using list comprehension."
   ]
  },
  {
   "cell_type": "code",
   "execution_count": 6,
   "id": "6c5a85ef-9bca-437d-9237-96f21ea0e553",
   "metadata": {},
   "outputs": [
    {
     "name": "stdout",
     "output_type": "stream",
     "text": [
      "[1, 3, 5, 7, 9, 11, 13, 15, 17, 19, 21, 23, 25, 27, 29, 31, 33, 35, 37, 39, 41, 43, 45, 47, 49]\n"
     ]
    }
   ],
   "source": [
    "lis = [i for i in range(50) if i % 2 == 1]\n",
    "print(lis)"
   ]
  },
  {
   "cell_type": "markdown",
   "id": "f4a83e73-fd03-46d4-8f41-f710616eeda7",
   "metadata": {},
   "source": [
    "## 4. Class (5 Questions)"
   ]
  },
  {
   "cell_type": "markdown",
   "id": "97e5fe48-8cf6-485b-8346-1df68aa5d684",
   "metadata": {},
   "source": [
    "## 16.Create a class Student with attributes name and marks, and a method to display details."
   ]
  },
  {
   "cell_type": "code",
   "execution_count": 2,
   "id": "5c7c3513-6f1f-44ec-84ce-2e80be5bdcf9",
   "metadata": {},
   "outputs": [],
   "source": [
    "class student:\n",
    "    def __init__ (self, name, marks):\n",
    "        self.name = name\n",
    "        self.marks = marks\n",
    "obj=student(\"siri\",23)"
   ]
  },
  {
   "cell_type": "code",
   "execution_count": 3,
   "id": "c569c6e3-e9a1-445e-b1f6-f41ff836fee4",
   "metadata": {},
   "outputs": [
    {
     "data": {
      "text/plain": [
       "'siri'"
      ]
     },
     "execution_count": 3,
     "metadata": {},
     "output_type": "execute_result"
    }
   ],
   "source": [
    "obj.name"
   ]
  },
  {
   "cell_type": "code",
   "execution_count": 4,
   "id": "6ae74045-5a25-4fb3-84cf-2cf325533014",
   "metadata": {},
   "outputs": [
    {
     "data": {
      "text/plain": [
       "23"
      ]
     },
     "execution_count": 4,
     "metadata": {},
     "output_type": "execute_result"
    }
   ],
   "source": [
    "obj.marks"
   ]
  },
  {
   "cell_type": "markdown",
   "id": "fb05345a-2a3c-4151-99c3-a8917027ae7f",
   "metadata": {},
   "source": [
    "## 17.Create a class BankAccount with deposit and withdraw methods."
   ]
  },
  {
   "cell_type": "code",
   "execution_count": 22,
   "id": "53339bea-5326-40f0-a3c3-8aff627f887f",
   "metadata": {},
   "outputs": [],
   "source": [
    "class BankAccount:\n",
    "    def __init__(self, account_holder, balance):\n",
    "        self.account_holder = account_holder\n",
    "        self.__balance = balance \n",
    "\n",
    "    def deposit(self, amount):\n",
    "        if amount > 0:\n",
    "            self.__balance += amount\n",
    "            return f\"Deposited {amount}. New balance: {self.__balance}\"\n",
    "        return \"Invalid deposit amount\"\n",
    "\n",
    "    def withdraw(self, amount):\n",
    "        if 0 < amount <= self.__balance:\n",
    "            self.__balance -= amount\n",
    "            return f\"Withdrew {amount}. New balance: {self.__balance}\"\n",
    "        return \"Invalid withdrawal amount\"\n",
    "\n",
    "    def get_balance(self):\n",
    "        return self.__balance\n",
    "\n"
   ]
  },
  {
   "cell_type": "code",
   "execution_count": 23,
   "id": "882da814-2a01-499c-a351-6e17136f8dd9",
   "metadata": {},
   "outputs": [
    {
     "name": "stdout",
     "output_type": "stream",
     "text": [
      "Deposited 500. New balance: 1500\n",
      "Withdrew 200. New balance: 1300\n",
      "1300\n"
     ]
    }
   ],
   "source": [
    "account = BankAccount(\"Alice\", 1000)\n",
    "print(account.deposit(500))  \n",
    "print(account.withdraw(200)) \n",
    "print(account.get_balance())  "
   ]
  },
  {
   "cell_type": "markdown",
   "id": "3ff70c4c-3027-462a-b834-9056a2a70604",
   "metadata": {},
   "source": [
    "## 18.Create a class Circle with a method to calculate area and circumference."
   ]
  },
  {
   "cell_type": "code",
   "execution_count": 30,
   "id": "d8187b76-0b7c-4a15-a2b1-b1b74782392c",
   "metadata": {},
   "outputs": [],
   "source": [
    "pi=3.14\n",
    "class Circle:\n",
    "    def __init__(self,radius):\n",
    "        self.radius=radius\n",
    "    def area(self):\n",
    "        return pi*(self.radius**2)\n",
    "    def cricumference(self):\n",
    "        return 2 *pi *self.radius"
   ]
  },
  {
   "cell_type": "code",
   "execution_count": 31,
   "id": "d4273e32-3f5e-41d3-b178-244a6128f032",
   "metadata": {},
   "outputs": [],
   "source": [
    "obj = Circle(5)"
   ]
  },
  {
   "cell_type": "code",
   "execution_count": 32,
   "id": "faf50c06-a6bf-4733-b7eb-c2b02bce988c",
   "metadata": {},
   "outputs": [
    {
     "data": {
      "text/plain": [
       "78.5"
      ]
     },
     "execution_count": 32,
     "metadata": {},
     "output_type": "execute_result"
    }
   ],
   "source": [
    "obj.area()"
   ]
  },
  {
   "cell_type": "code",
   "execution_count": 33,
   "id": "dd646c5b-3ecb-49b3-83e3-a19348586286",
   "metadata": {},
   "outputs": [
    {
     "data": {
      "text/plain": [
       "31.400000000000002"
      ]
     },
     "execution_count": 33,
     "metadata": {},
     "output_type": "execute_result"
    }
   ],
   "source": [
    "obj.cricumference()"
   ]
  },
  {
   "cell_type": "markdown",
   "id": "e2c20c3d-3628-42c7-b5a5-c2ef11ce9249",
   "metadata": {},
   "source": [
    "## 19.Create a class Employee that increases salary by 10%."
   ]
  },
  {
   "cell_type": "code",
   "execution_count": 35,
   "id": "6915fd19-478f-462c-b8d0-445714ed7ecc",
   "metadata": {},
   "outputs": [],
   "source": [
    "class Employee:\n",
    "    def __init__(self,salary):\n",
    "        self.salary=salary\n",
    "    def increase_salary(self):\n",
    "        return self.salary * 1.10"
   ]
  },
  {
   "cell_type": "code",
   "execution_count": 36,
   "id": "50fb081b-ef18-466a-a45d-ce1245996057",
   "metadata": {},
   "outputs": [],
   "source": [
    "onj = Employee(90000)"
   ]
  },
  {
   "cell_type": "code",
   "execution_count": 37,
   "id": "9ebfbf3f-e4a1-4d2f-b64b-fb06698cb068",
   "metadata": {},
   "outputs": [
    {
     "data": {
      "text/plain": [
       "99000.00000000001"
      ]
     },
     "execution_count": 37,
     "metadata": {},
     "output_type": "execute_result"
    }
   ],
   "source": [
    "onj.increase_salary()"
   ]
  },
  {
   "cell_type": "markdown",
   "id": "33964ef0-1d59-447a-9800-2579300bf6f4",
   "metadata": {},
   "source": [
    "## 20.Create a class Car with methods to start, stop, and display status."
   ]
  },
  {
   "cell_type": "code",
   "execution_count": 39,
   "id": "3273cd3c-e6fb-48e7-8073-dd7134f5bc5f",
   "metadata": {},
   "outputs": [],
   "source": [
    "class Car:\n",
    "    def __init__(self,start,stop):\n",
    "        self.start=start\n",
    "        self.stop=stop\n",
    "        "
   ]
  },
  {
   "cell_type": "code",
   "execution_count": 40,
   "id": "36635aa9-232d-4d37-8fc0-9c776cd5912f",
   "metadata": {},
   "outputs": [],
   "source": [
    "car = Car(\"Car is start\",\"Car is stop\")"
   ]
  },
  {
   "cell_type": "code",
   "execution_count": 41,
   "id": "647564ae-a74c-4fac-8184-ace52dd097d9",
   "metadata": {},
   "outputs": [
    {
     "data": {
      "text/plain": [
       "'Car is start'"
      ]
     },
     "execution_count": 41,
     "metadata": {},
     "output_type": "execute_result"
    }
   ],
   "source": [
    "car.start"
   ]
  },
  {
   "cell_type": "code",
   "execution_count": 42,
   "id": "7eefd354-2c48-4e69-a13b-eefcde5029b7",
   "metadata": {},
   "outputs": [
    {
     "data": {
      "text/plain": [
       "'Car is stop'"
      ]
     },
     "execution_count": 42,
     "metadata": {},
     "output_type": "execute_result"
    }
   ],
   "source": [
    "car.stop"
   ]
  },
  {
   "cell_type": "markdown",
   "id": "713d082e-1a71-4925-8984-9d7873c65c6d",
   "metadata": {},
   "source": [
    "## 5. Inheritance (5 Questions)"
   ]
  },
  {
   "cell_type": "markdown",
   "id": "4512ea66-d4cd-4338-9c89-75cfa142851c",
   "metadata": {},
   "source": [
    "## 21.Create a base class Animal and a derived class Dog that overrides a method."
   ]
  },
  {
   "cell_type": "code",
   "execution_count": 43,
   "id": "bb2d86d8-06dc-4f1b-ae09-a3927f096a0c",
   "metadata": {},
   "outputs": [],
   "source": [
    "class Animal:\n",
    "    def barking(self):\n",
    "        return \"dog are barking\"\n",
    "    def walk(self):\n",
    "        return \"dog are walk\"\n",
    "class Dog(Animal):\n",
    "    def running(self):\n",
    "        return \"dog are running\""
   ]
  },
  {
   "cell_type": "code",
   "execution_count": 44,
   "id": "42829074-3f2f-47e5-911e-1720f1194800",
   "metadata": {},
   "outputs": [],
   "source": [
    "o1= Dog()"
   ]
  },
  {
   "cell_type": "code",
   "execution_count": 45,
   "id": "8c2c3375-18dc-433a-ab31-7430cb7dee53",
   "metadata": {},
   "outputs": [
    {
     "data": {
      "text/plain": [
       "'dog are barking'"
      ]
     },
     "execution_count": 45,
     "metadata": {},
     "output_type": "execute_result"
    }
   ],
   "source": [
    "o1.barking()"
   ]
  },
  {
   "cell_type": "code",
   "execution_count": 46,
   "id": "6cba37fb-46f8-47a6-8f7d-3b4f2b52e124",
   "metadata": {},
   "outputs": [
    {
     "data": {
      "text/plain": [
       "'dog are running'"
      ]
     },
     "execution_count": 46,
     "metadata": {},
     "output_type": "execute_result"
    }
   ],
   "source": [
    "o1.running()"
   ]
  },
  {
   "cell_type": "code",
   "execution_count": 47,
   "id": "a0eed64e-9a8d-4ece-a74c-5d670a5abd84",
   "metadata": {},
   "outputs": [
    {
     "data": {
      "text/plain": [
       "'dog are walk'"
      ]
     },
     "execution_count": 47,
     "metadata": {},
     "output_type": "execute_result"
    }
   ],
   "source": [
    "o1.walk()"
   ]
  },
  {
   "cell_type": "markdown",
   "id": "6dc3b9dd-3bd8-43a3-ade1-6027b07af431",
   "metadata": {},
   "source": [
    "## 22.Create a base class Shape with method area(). Inherit Rectangle and Circle classes to implement area calculation."
   ]
  },
  {
   "cell_type": "code",
   "execution_count": 26,
   "id": "fad94b03-a751-44b5-b62c-d77a3d62fb2f",
   "metadata": {},
   "outputs": [],
   "source": [
    "class shape:\n",
    "    def area(self):\n",
    "        pass\n",
    "\n",
    "class rectangle(shape):\n",
    "    def area(self, length, width):\n",
    "        self.length = length\n",
    "        self.width = width\n",
    "        return self.length*self.width\n",
    "        print(\"area of rectangle is :-\", area)\n",
    "    \n",
    "class circle(shape): \n",
    "    def _init_(self, radius):\n",
    "        self.radius = radius\n",
    "        import math as mt\n",
    "        return mt.pi*self.radius**2\n",
    "        print(\"area of circle is :-\", area)\n"
   ]
  },
  {
   "cell_type": "code",
   "execution_count": 27,
   "id": "ffe889ce-cd87-47f3-85ad-aec555fa1c33",
   "metadata": {},
   "outputs": [],
   "source": [
    "obj_shape=shape()"
   ]
  },
  {
   "cell_type": "code",
   "execution_count": 36,
   "id": "2641afcc-8fdc-4efb-bbaa-27de44f006b9",
   "metadata": {},
   "outputs": [],
   "source": [
    "obj2=circle()"
   ]
  },
  {
   "cell_type": "code",
   "execution_count": 29,
   "id": "8700b284-1658-4901-b98b-15b30a4ae30e",
   "metadata": {},
   "outputs": [],
   "source": [
    "obj3=rectangle()"
   ]
  },
  {
   "cell_type": "code",
   "execution_count": 30,
   "id": "3c85519c-b2ad-46c6-9d9e-42e558d2c881",
   "metadata": {},
   "outputs": [
    {
     "data": {
      "text/plain": [
       "70"
      ]
     },
     "execution_count": 30,
     "metadata": {},
     "output_type": "execute_result"
    }
   ],
   "source": [
    "obj3.area(10,7)"
   ]
  },
  {
   "cell_type": "code",
   "execution_count": 35,
   "id": "e434a865-cfaa-4814-a422-6d2c95a79391",
   "metadata": {},
   "outputs": [],
   "source": [
    "obj2.area()"
   ]
  },
  {
   "cell_type": "markdown",
   "id": "353bf555-af2b-4633-ab89-c88006472ba9",
   "metadata": {},
   "source": [
    "## 23.Create a Person class and inherit Student and Teacher from it with additional attributes."
   ]
  },
  {
   "cell_type": "code",
   "execution_count": 49,
   "id": "07c7e6b2-0066-4d41-9820-a9b24c5f4fc8",
   "metadata": {},
   "outputs": [],
   "source": [
    "class Person:\n",
    "    def __init__(self,name,age):\n",
    "        self.name =name\n",
    "        self.age=age\n",
    "    def show_detail(self):\n",
    "        return f\"Name is {self.name} and age is {self.age}\"\n",
    "\n",
    "class Student(Person):\n",
    "    def __init__(self,name,age,student_id,grade):\n",
    "        super().__init__(name,age)\n",
    "        self.student_id=student_id\n",
    "        self.grade=grade\n",
    "    def show_detail(self):\n",
    "        return f\" Student = { super().show_detail() } , student id ={self.student_id} and grade is {self.grade}     \"\n",
    "\n",
    "class Teacher(Person):\n",
    "    def __init__(self,name,age,experience,salary):\n",
    "        super().__init__(name,age)\n",
    "        self.experience =experience\n",
    "        self.salary=salary\n",
    "    def show_detail(self):\n",
    "        return f\"Teacher = {super().show_detail()} and its have Experience of {self.experience} and is expected salary is {self.salary}      \""
   ]
  },
  {
   "cell_type": "code",
   "execution_count": 50,
   "id": "296f1dbe-c6b5-464b-a4a0-3c0e02e06062",
   "metadata": {},
   "outputs": [],
   "source": [
    "obj =Person(\"Rohit\" , 16)"
   ]
  },
  {
   "cell_type": "code",
   "execution_count": 51,
   "id": "576f7dce-6bd9-4d20-8bfd-75b0c6f52c6d",
   "metadata": {},
   "outputs": [],
   "source": [
    "s1 = Student(\"Rahul\", 16, \"S101\", \"10th Grade\")\n",
    "t1 = Teacher(\"Mr. Sharma\", 50,5,89000)"
   ]
  },
  {
   "cell_type": "code",
   "execution_count": 52,
   "id": "14343a5c-34a0-4c2d-9726-0b8ad8b97780",
   "metadata": {},
   "outputs": [
    {
     "data": {
      "text/plain": [
       "' Student = Name is Rahul and age is 16 , student id =S101 and grade is 10th Grade     '"
      ]
     },
     "execution_count": 52,
     "metadata": {},
     "output_type": "execute_result"
    }
   ],
   "source": [
    "s1.show_detail()"
   ]
  },
  {
   "cell_type": "code",
   "execution_count": 53,
   "id": "7f8a541f-d2cc-4d1f-80cf-55cbf6a5561d",
   "metadata": {},
   "outputs": [
    {
     "data": {
      "text/plain": [
       "'Teacher = Name is Mr. Sharma and age is 50 and its have Experience of 5 and is expected salary is 89000      '"
      ]
     },
     "execution_count": 53,
     "metadata": {},
     "output_type": "execute_result"
    }
   ],
   "source": [
    "t1.show_detail()"
   ]
  },
  {
   "cell_type": "markdown",
   "id": "662c7a7d-9fe1-4c3f-a2fb-1b7c4561f7b2",
   "metadata": {},
   "source": [
    "## 24.Create a Vehicle class and inherit Car and Bike with their specific features."
   ]
  },
  {
   "cell_type": "code",
   "execution_count": 54,
   "id": "c07d2dac-a6fb-4486-9ded-baee377d59c0",
   "metadata": {},
   "outputs": [],
   "source": [
    "class Vehicle:\n",
    "    def __init__(self,brand, model):\n",
    "        self.brand = brand\n",
    "        self.model = model\n",
    "    def feature(self):\n",
    "        return f\"This is a brand of {self.brand} , This is model of your vehicel {self.model}\"\n",
    "\n",
    "\n",
    "class Car(Vehicle):\n",
    "    def __init__(self,brand, model,fuel_type):\n",
    "        super().__init__(brand,model)\n",
    "        self.fuel_type=fuel_type\n",
    "    def feature(self):\n",
    "        return f\"Car -> {super().feature()}, Fuel type: {self.fuel_type}\"\n",
    "\n",
    "\n",
    "class Bike(Vehicle):\n",
    "    def __init__(self,brand,model,cc):\n",
    "        super().__init__(brand,model)\n",
    "        self.cc=cc\n",
    "    def feature(self):\n",
    "        return f\"Bike -> {super().feature()},CC:{self.cc}\""
   ]
  },
  {
   "cell_type": "code",
   "execution_count": 55,
   "id": "35b8d76f-9919-4472-9f54-f3cf226b2b6e",
   "metadata": {},
   "outputs": [],
   "source": [
    "s1=Car(\"BMW\",\"M4\",\"Petrol\")\n",
    "s2=Bike(\"TVS\",\"XL-100\",\"10000cc\")"
   ]
  },
  {
   "cell_type": "code",
   "execution_count": 56,
   "id": "bd6353fd-8a77-4516-a585-e8d67ebfe0bc",
   "metadata": {},
   "outputs": [
    {
     "data": {
      "text/plain": [
       "'Car -> This is a brand of BMW , This is model of your vehicel M4, Fuel type: Petrol'"
      ]
     },
     "execution_count": 56,
     "metadata": {},
     "output_type": "execute_result"
    }
   ],
   "source": [
    "s1.feature()"
   ]
  },
  {
   "cell_type": "code",
   "execution_count": 57,
   "id": "d4a59158-9901-4c5a-a4ed-230fd9899c3d",
   "metadata": {},
   "outputs": [
    {
     "data": {
      "text/plain": [
       "'TVS'"
      ]
     },
     "execution_count": 57,
     "metadata": {},
     "output_type": "execute_result"
    }
   ],
   "source": [
    "s2.brand"
   ]
  },
  {
   "cell_type": "markdown",
   "id": "187646dd-b386-4a80-8a7e-a94b281ede78",
   "metadata": {},
   "source": [
    "## 25.Demonstrate multiple inheritance with a StudentAthlete class (inheriting from Student and Athlete)."
   ]
  },
  {
   "cell_type": "code",
   "execution_count": 59,
   "id": "698e8a62-3963-41c4-8571-9d80017d00e1",
   "metadata": {},
   "outputs": [],
   "source": [
    "class Student:\n",
    "    def student_info(self):\n",
    "        dic ={\"name\":\"Raj\",\"Section\":\"A\"}\n",
    "        print(dic)\n",
    "class Athlete(Student): #child class\n",
    "    def student_athlete(self,):\n",
    "        return f\"Student is also Athlete\"\n",
    "\n",
    "class StudentAthlete(Athlete):#child class\n",
    "    pass"
   ]
  },
  {
   "cell_type": "code",
   "execution_count": 60,
   "id": "fa8bb1d5-1fba-4750-8983-94e83a97163b",
   "metadata": {},
   "outputs": [],
   "source": [
    "obj = StudentAthlete()"
   ]
  },
  {
   "cell_type": "code",
   "execution_count": 61,
   "id": "5aa13a88-2384-4b67-8950-eebfc08ce43d",
   "metadata": {},
   "outputs": [
    {
     "name": "stdout",
     "output_type": "stream",
     "text": [
      "{'name': 'Raj', 'Section': 'A'}\n"
     ]
    }
   ],
   "source": [
    "obj.student_info()"
   ]
  },
  {
   "cell_type": "code",
   "execution_count": 62,
   "id": "0a5afcf9-deef-4978-929c-b0d3fd4f8272",
   "metadata": {},
   "outputs": [
    {
     "data": {
      "text/plain": [
       "'Student is also Athlete'"
      ]
     },
     "execution_count": 62,
     "metadata": {},
     "output_type": "execute_result"
    }
   ],
   "source": [
    "obj.student_athlete()"
   ]
  },
  {
   "cell_type": "markdown",
   "id": "36745877-66f6-49a3-8d1b-5749b084feff",
   "metadata": {},
   "source": [
    "## 6. Polymorphism (5 Questions)"
   ]
  },
  {
   "cell_type": "markdown",
   "id": "202ae319-93b3-466f-b207-bd9ed1d95ae6",
   "metadata": {},
   "source": [
    "## 26.Create two classes Cat and Dog with the same method speak(). Demonstrate polymorphism."
   ]
  },
  {
   "cell_type": "code",
   "execution_count": 28,
   "id": "cc6dad3f-30e6-4f09-a8cc-e4aca74f63ca",
   "metadata": {},
   "outputs": [],
   "source": [
    "class Animal:\n",
    "    def make_sound(self):\n",
    "        pass\n",
    "        \n",
    "class Dog(Animal):\n",
    "    def make_sound(self):\n",
    "        return \"Woof!\"\n",
    "        \n",
    "class Cat(Animal):\n",
    "    def make_sound(self):\n",
    "        return \"Meow!\""
   ]
  },
  {
   "cell_type": "code",
   "execution_count": 29,
   "id": "bf14664e-2968-41e1-8aa3-432a89627acd",
   "metadata": {},
   "outputs": [],
   "source": [
    "sp1=Dog()\n",
    "sp2=Cat()"
   ]
  },
  {
   "cell_type": "code",
   "execution_count": 30,
   "id": "06c77558-de7c-4126-af07-770f6d3ac5bf",
   "metadata": {},
   "outputs": [
    {
     "data": {
      "text/plain": [
       "[<__main__.Dog at 0x17403d90d70>, <__main__.Cat at 0x17403d90ec0>]"
      ]
     },
     "execution_count": 30,
     "metadata": {},
     "output_type": "execute_result"
    }
   ],
   "source": [
    "animals = [sp1,sp2]\n",
    "animals"
   ]
  },
  {
   "cell_type": "code",
   "execution_count": 31,
   "id": "03dc0909-8950-4c25-9c27-ce86a54b41bd",
   "metadata": {},
   "outputs": [
    {
     "name": "stdout",
     "output_type": "stream",
     "text": [
      "Woof!\n",
      "Meow!\n"
     ]
    }
   ],
   "source": [
    "for animal in animals:\n",
    "    print(animal.make_sound())"
   ]
  },
  {
   "cell_type": "markdown",
   "id": "cd691051-606f-4a96-b193-04778409209b",
   "metadata": {},
   "source": [
    "## 27.Demonstrate operator overloading by implementing addition of two Vector objects."
   ]
  },
  {
   "cell_type": "code",
   "execution_count": null,
   "id": "db2616a4-e78d-4041-8d7b-4126a3c953b8",
   "metadata": {},
   "outputs": [],
   "source": [
    "class Vector:\n",
    "    def _init_(self, x, y):\n",
    "        self.x = x\n",
    "        self.y = y\n",
    "    \n",
    "    def _add_(self, other):\n",
    "        return Vector(self.x + other.x, self.y + other.y)\n",
    "    \n",
    "    def _str_(self):\n",
    "        return f\"({self.x}, {self.y})\"\n",
    "\n",
    "v1 = Vector(2, 3)\n",
    "v2 = Vector(4, 5)\n",
    "\n",
    "v3 = v1 + v2\n",
    "\n",
    "print(\"Vector 1:\", v1)\n",
    "print(\"Vector 2:\", v2)\n",
    "print(\"Added Vector:\", v3)"
   ]
  },
  {
   "cell_type": "markdown",
   "id": "218a418d-c560-47b6-8ba1-e3ebe41e4997",
   "metadata": {},
   "source": [
    "## 28.Demonstrate method overloading using default parameters."
   ]
  },
  {
   "cell_type": "code",
   "execution_count": 9,
   "id": "50c57af5-edbc-45b1-8099-eeb46b95be87",
   "metadata": {},
   "outputs": [
    {
     "data": {
      "text/plain": [
       "0"
      ]
     },
     "execution_count": 9,
     "metadata": {},
     "output_type": "execute_result"
    }
   ],
   "source": [
    "class Overloading:\n",
    "    def add(self,x=0,y=0,z=0):\n",
    "        return x*y*z\n",
    "\n",
    "\n",
    "Cal = Overloading()\n",
    "Cal.add(4,)"
   ]
  },
  {
   "cell_type": "markdown",
   "id": "f99b11fd-4ca5-473b-8d54-b0fe43a889b7",
   "metadata": {},
   "source": [
    "## 29.Create a base class Shape with draw() method and override it in derived classes."
   ]
  },
  {
   "cell_type": "code",
   "execution_count": 8,
   "id": "12f92445-8305-469a-9491-0489f66147c8",
   "metadata": {},
   "outputs": [
    {
     "name": "stdout",
     "output_type": "stream",
     "text": [
      "Rectangle is drawing\n",
      "Circle is drawing\n"
     ]
    }
   ],
   "source": [
    "class Shape:\n",
    "    def draw(self):\n",
    "        return \"Shape is drawing\"\n",
    "\n",
    "class Circle(Shape):\n",
    "    def draw(self):\n",
    "        return \"Circle is drawing\"\n",
    "\n",
    "class Rectangle(Shape):\n",
    "    def draw(self):\n",
    "        return \"Rectangle is drawing\"\n",
    "\n",
    "\n",
    "shapes = [Rectangle(), Circle()]\n",
    "\n",
    "for s in shapes:\n",
    "    print(s.draw())  "
   ]
  },
  {
   "cell_type": "markdown",
   "id": "139e6a70-c0e0-4092-9c00-2946f2233f28",
   "metadata": {},
   "source": [
    "## 30.Demonstrate duck typing with classes having the same method name."
   ]
  },
  {
   "cell_type": "code",
   "execution_count": 35,
   "id": "6f170d8c-b8e9-409a-a944-1b4b19c01251",
   "metadata": {},
   "outputs": [],
   "source": [
    "class ineuron4:\n",
    "    def students(self):\n",
    "        print(\"print a students details \")\n",
    "\n",
    "class class_type :\n",
    "    def student(self):\n",
    "        print(\"print the class type of students\")"
   ]
  },
  {
   "cell_type": "code",
   "execution_count": 36,
   "id": "2e48e0a1-b341-46d6-af73-4a4e22597097",
   "metadata": {},
   "outputs": [],
   "source": [
    "def ineuron_external(a,b):\n",
    "    a.students()\n",
    "    b.student()"
   ]
  },
  {
   "cell_type": "code",
   "execution_count": 37,
   "id": "4eb14a83-e73c-434a-81e9-ed2a0e047f87",
   "metadata": {},
   "outputs": [
    {
     "name": "stdout",
     "output_type": "stream",
     "text": [
      "print a students details \n",
      "print the class type of students\n"
     ]
    }
   ],
   "source": [
    "ineuron_external(ineuron4(),class_type())"
   ]
  },
  {
   "cell_type": "markdown",
   "id": "7f0c855e-7e5c-44de-ad68-4424daea0a89",
   "metadata": {},
   "source": [
    "## 7. Encapsulation (5 Questions)"
   ]
  },
  {
   "cell_type": "markdown",
   "id": "def3a8df-27e3-433b-a344-4a5f53d849d7",
   "metadata": {},
   "source": [
    "## 31.Create a class Account with private balance attribute and provide methods to deposit and withdraw."
   ]
  },
  {
   "cell_type": "code",
   "execution_count": 41,
   "id": "68e69047-7b5e-4ebc-ba7a-f46c25f46e55",
   "metadata": {},
   "outputs": [],
   "source": [
    "class BankAccount:\n",
    "    def __init__(self, account_holder, balance):\n",
    "        self.account_holder = account_holder\n",
    "        self.__balance = balance  # Private attribute\n",
    "\n",
    "    def deposit(self, amount):\n",
    "        if amount > 0:\n",
    "            self.__balance += amount\n",
    "            return f\"Deposited {amount}. New balance: {self.__balance}\"\n",
    "        return \"Invalid deposit amount\"\n",
    "\n",
    "    def withdraw(self, amount):\n",
    "        if 0 < amount <= self.__balance:\n",
    "            self.__balance -= amount\n",
    "            return f\"Withdrew {amount}. New balance: {self.__balance}\"\n",
    "        return \"Invalid withdrawal amount\"\n"
   ]
  },
  {
   "cell_type": "code",
   "execution_count": 42,
   "id": "e6e758d8-0da3-491b-a61d-9008262e951e",
   "metadata": {},
   "outputs": [
    {
     "name": "stdout",
     "output_type": "stream",
     "text": [
      "Deposited 500. New balance: 1500\n",
      "Withdrew 200. New balance: 1300\n"
     ]
    }
   ],
   "source": [
    "account = BankAccount(\"Alice\", 1000)\n",
    "print(account.deposit(500))  # Deposited 500. New balance: 1500\n",
    "print(account.withdraw(200)) "
   ]
  },
  {
   "cell_type": "markdown",
   "id": "28c3cee5-dafc-4e8e-82d9-b1895a623b14",
   "metadata": {},
   "source": [
    "## 32.Create a class with private attributes and use getter and setter methods to access them."
   ]
  },
  {
   "cell_type": "code",
   "execution_count": 16,
   "id": "e11ff63c-ea25-41aa-875e-a1c893c558b8",
   "metadata": {},
   "outputs": [],
   "source": [
    "class person:\n",
    "    def _init_(self, name, age):\n",
    "        self.name = name\n",
    "        self._age = age # private attribute\n",
    "\n",
    "    def get_age(self):\n",
    "        return self._age\n",
    "\n",
    "    def set_age(self, new_age):\n",
    "        if new_age >= 0:\n",
    "            self._age = new_age\n",
    "        else:\n",
    "            print(\"Age cannot be negative\")\n"
   ]
  },
  {
   "cell_type": "code",
   "execution_count": null,
   "id": "44c29687-9349-41ae-96ac-1df68f97537d",
   "metadata": {},
   "outputs": [],
   "source": [
    "p = person(\"saloni\", 20)"
   ]
  },
  {
   "cell_type": "code",
   "execution_count": 8,
   "id": "ce974fc5-ff90-4458-9781-a5f3479bab70",
   "metadata": {},
   "outputs": [
    {
     "ename": "NameError",
     "evalue": "name 'gs' is not defined",
     "output_type": "error",
     "traceback": [
      "\u001b[1;31m---------------------------------------------------------------------------\u001b[0m",
      "\u001b[1;31mNameError\u001b[0m                                 Traceback (most recent call last)",
      "Cell \u001b[1;32mIn[8], line 1\u001b[0m\n\u001b[1;32m----> 1\u001b[0m gs\u001b[38;5;241m.\u001b[39mset_age(\u001b[38;5;241m21\u001b[39m)\n",
      "\u001b[1;31mNameError\u001b[0m: name 'gs' is not defined"
     ]
    }
   ],
   "source": [
    "gs.set_age(21)"
   ]
  },
  {
   "cell_type": "code",
   "execution_count": null,
   "id": "3d860342-367a-4a02-a719-6375e78a31d7",
   "metadata": {},
   "outputs": [],
   "source": []
  },
  {
   "cell_type": "code",
   "execution_count": null,
   "id": "2294db33-4e54-4c68-9ab7-d122edfca070",
   "metadata": {},
   "outputs": [],
   "source": [
    "g5.get_age()"
   ]
  },
  {
   "cell_type": "markdown",
   "id": "b41374f0-3c2a-4888-9f47-324915b30711",
   "metadata": {},
   "source": [
    "## 33.Demonstrate name mangling with private variables."
   ]
  },
  {
   "cell_type": "code",
   "execution_count": 1,
   "id": "1f0bbe90-3399-4e55-bde9-25ed0358e37b",
   "metadata": {},
   "outputs": [
    {
     "name": "stdout",
     "output_type": "stream",
     "text": [
      "Rajesh\n"
     ]
    }
   ],
   "source": [
    "class PrivateName:\n",
    "    def __init__(self,name):\n",
    "        self.__name=name\n",
    "        \n",
    "obj = PrivateName(\"Rajesh\")\n",
    "print(obj._PrivateName__name)"
   ]
  },
  {
   "cell_type": "markdown",
   "id": "a71aa57f-aec7-4ca2-b7ba-679c7be6b5f9",
   "metadata": {},
   "source": [
    "## 34.Create a class Bank with encapsulated methods to show account details securely."
   ]
  },
  {
   "cell_type": "code",
   "execution_count": 2,
   "id": "6a6ce83b-97a8-48e7-885a-4467f088192a",
   "metadata": {},
   "outputs": [],
   "source": [
    "class Bank:\n",
    "    def __init__(self,account_number, name, balance, pin):\n",
    "        self.__account_number = account_number\n",
    "        self.__name = name \n",
    "        self.__balance = balance\n",
    "        self.__pin=pin\n",
    "\n",
    "\n",
    "    def deposite(self,amount):\n",
    "        if amount>0:\n",
    "            self.__balance+=amount\n",
    "            return f\"Deposited {amount}. New balance: {self.__balance}\"\n",
    "        return \"Invalid deposit amount\"\n",
    "\n",
    "\n",
    "    def Withdrawal(self,amount,pin):\n",
    "        if pin!=self.__pin:\n",
    "            return \"Incoorect Pin\"\n",
    "        if 0 < amount <= self.__balance:\n",
    "            self.__balance -= amount\n",
    "            return f\"Withdrew {amount}. New balance: {self.__balance}\"\n",
    "        return \"Invalid withdrawal amount\"\n",
    "\n",
    "\n",
    "\n",
    "    def show_detail(self,pin):\n",
    "        if pin==self.__pin:\n",
    "            return f\"Account Number: {self.__account_number}  Name: {self.__name}    Balance: {self.__balance}\"\n",
    "        else:\n",
    "            return \"Access denied! Incorrect PIN.\"\n",
    "            \n",
    "\n"
   ]
  },
  {
   "cell_type": "code",
   "execution_count": 3,
   "id": "09fa55f0-cd58-4351-93ef-a818ab538302",
   "metadata": {},
   "outputs": [],
   "source": [
    "my_account = Bank(1268895647 , \"Pritesh ingle\" , 60000,1234)"
   ]
  },
  {
   "cell_type": "code",
   "execution_count": 4,
   "id": "b3b7b8c5-5c9b-495b-9ee4-cf898e75dc73",
   "metadata": {},
   "outputs": [
    {
     "data": {
      "text/plain": [
       "'Deposited 700. New balance: 60700'"
      ]
     },
     "execution_count": 4,
     "metadata": {},
     "output_type": "execute_result"
    }
   ],
   "source": [
    "my_account.deposite(700)"
   ]
  },
  {
   "cell_type": "code",
   "execution_count": 5,
   "id": "e78e3d34-c901-40c6-8451-7b8d77c7aaf3",
   "metadata": {},
   "outputs": [
    {
     "data": {
      "text/plain": [
       "'Withdrew 60000. New balance: 700'"
      ]
     },
     "execution_count": 5,
     "metadata": {},
     "output_type": "execute_result"
    }
   ],
   "source": [
    "my_account.Withdrawal(60000,1234)"
   ]
  },
  {
   "cell_type": "code",
   "execution_count": 6,
   "id": "39db34da-7366-46e0-a38e-ee50f7a0b8c6",
   "metadata": {},
   "outputs": [
    {
     "data": {
      "text/plain": [
       "'Account Number: 1268895647  Name: Pritesh ingle    Balance: 700'"
      ]
     },
     "execution_count": 6,
     "metadata": {},
     "output_type": "execute_result"
    }
   ],
   "source": [
    "my_account.show_detail(1234)"
   ]
  },
  {
   "cell_type": "markdown",
   "id": "f33079ec-7c3d-4ccd-aceb-e3c35e7e5b9c",
   "metadata": {},
   "source": [
    "## 35.Demonstrate encapsulation by restricting access to class attributes."
   ]
  },
  {
   "cell_type": "markdown",
   "id": "97471330-d8ad-4aae-8f6f-fdd0b2396d19",
   "metadata": {},
   "source": [
    "## 37.Write a program to calculate a person’s age from their date of birth."
   ]
  },
  {
   "cell_type": "code",
   "execution_count": 1,
   "id": "cd8dbb6a-1809-48f9-a94a-d685c7fe155f",
   "metadata": {},
   "outputs": [
    {
     "name": "stdout",
     "output_type": "stream",
     "text": [
      "Date of Birth: 2002-11-05\n",
      "Today: 2025-09-18\n",
      "Age: 23 years\n"
     ]
    }
   ],
   "source": [
    "import datetime\n",
    "dob=datetime.date(2002,11,5)\n",
    "today = datetime.date.today()\n",
    "age=today.year-dob.year\n",
    "print(f\"Date of Birth: {dob}\")\n",
    "print(f\"Today: {today}\")\n",
    "print(f\"Age: {age} years\")"
   ]
  },
  {
   "cell_type": "markdown",
   "id": "855ca562-7eeb-4ad6-9a12-ab5919c65220",
   "metadata": {},
   "source": [
    "## 38.Write a program to find the difference in days between two given dates."
   ]
  },
  {
   "cell_type": "code",
   "execution_count": 3,
   "id": "b1558a50-637b-4f54-81b5-d59a4732f70c",
   "metadata": {},
   "outputs": [
    {
     "name": "stdout",
     "output_type": "stream",
     "text": [
      "Difference: 61 days\n"
     ]
    }
   ],
   "source": [
    "import datetime\n",
    "date1=datetime.date(2025,9,14)\n",
    "date2=datetime.date(2025,11,14)\n",
    "difference=date2-date1\n",
    "\n",
    "print(f\"Difference: {difference.days} days\")"
   ]
  },
  {
   "cell_type": "markdown",
   "id": "f343b756-a993-45d2-99c0-503e9abcebb9",
   "metadata": {},
   "source": [
    "## 39.Write a program to print the date 30 days from today."
   ]
  },
  {
   "cell_type": "code",
   "execution_count": 4,
   "id": "d88f3bb7-ded0-4c06-9c35-7be74309f708",
   "metadata": {},
   "outputs": [
    {
     "name": "stdout",
     "output_type": "stream",
     "text": [
      "Today's Date: 2025-09-18\n",
      "Date after 30 days: 2025-10-18\n"
     ]
    }
   ],
   "source": [
    "import datetime\n",
    "today=datetime.date.today()\n",
    "print(\"Today's Date:\",today)\n",
    "future=today+datetime.timedelta(days=30)\n",
    "print(\"Date after 30 days:\",future)"
   ]
  },
  {
   "cell_type": "markdown",
   "id": "3c7e4113-2f8f-4b4d-bf18-c15c2c3a7b4b",
   "metadata": {},
   "source": [
    "## 40.Write a program to format today’s date as “DD/MM/YYYY” and “YYYY-MM-DD”."
   ]
  },
  {
   "cell_type": "code",
   "execution_count": 5,
   "id": "2b4beaea-7176-46de-bb58-83e3ad620e75",
   "metadata": {},
   "outputs": [
    {
     "name": "stdout",
     "output_type": "stream",
     "text": [
      "Now: 2025-09-18 10:36:47.119446\n",
      "Today: 2025-09-18\n"
     ]
    }
   ],
   "source": [
    "import datetime\n",
    "now=datetime.datetime.now()\n",
    "print(\"Now:\", now)\n",
    "today=datetime.date.today()\n",
    "print(\"Today:\",today)"
   ]
  },
  {
   "cell_type": "markdown",
   "id": "64ade532-24e5-46c4-8250-1406c037a336",
   "metadata": {},
   "source": [
    "## 9. Math Module (5 Questions)"
   ]
  },
  {
   "cell_type": "markdown",
   "id": "c820867d-ba05-484b-ae4e-4173eb23b6a5",
   "metadata": {},
   "source": [
    "## 41.Write a program to calculate factorial using math.factorial()."
   ]
  },
  {
   "cell_type": "code",
   "execution_count": 8,
   "id": "aaa9b7ac-9eb1-4798-8f84-6b99f3eec159",
   "metadata": {},
   "outputs": [],
   "source": [
    "import math as mt "
   ]
  },
  {
   "cell_type": "code",
   "execution_count": 10,
   "id": "88ba9f19-312e-47eb-a22e-6b1443b62f9d",
   "metadata": {},
   "outputs": [
    {
     "data": {
      "text/plain": [
       "120"
      ]
     },
     "execution_count": 10,
     "metadata": {},
     "output_type": "execute_result"
    }
   ],
   "source": [
    "mt.factorial(5)"
   ]
  },
  {
   "cell_type": "markdown",
   "id": "e64abf60-9e06-4fed-b369-7e5497b1d225",
   "metadata": {},
   "source": [
    "## 42.Write a program to find the greatest common divisor (GCD) of two numbers."
   ]
  },
  {
   "cell_type": "code",
   "execution_count": 7,
   "id": "39462139-2202-4023-a13e-46fb5e0f9bff",
   "metadata": {},
   "outputs": [
    {
     "data": {
      "text/plain": [
       "2"
      ]
     },
     "execution_count": 7,
     "metadata": {},
     "output_type": "execute_result"
    }
   ],
   "source": [
    "import math as mt \n",
    "mt.gcd(6,8)"
   ]
  },
  {
   "cell_type": "markdown",
   "id": "08c3921c-5292-4abb-8f71-f0dae144e05b",
   "metadata": {},
   "source": [
    "## 43.Write a program to calculate square root, power, and logarithm using math module."
   ]
  },
  {
   "cell_type": "code",
   "execution_count": 10,
   "id": "b1f77a06-5022-4114-8e65-55ec6c123690",
   "metadata": {},
   "outputs": [
    {
     "name": "stdout",
     "output_type": "stream",
     "text": [
      "a: 256.0\n",
      "b: 4\n",
      "c: 2.772588722239781\n"
     ]
    }
   ],
   "source": [
    "a= mt.pow(16,2)\n",
    "b= mt.isqrt(16)\n",
    "c= mt.log(16)\n",
    "print(\"a:\", a)\n",
    "print(\"b:\", b)\n",
    "print(\"c:\", c)"
   ]
  },
  {
   "cell_type": "markdown",
   "id": "f50754ae-c526-4208-b1f8-a1981d68121a",
   "metadata": {},
   "source": [
    "## 44.Write a program to generate random numbers between 1 and 100 (using math and random)."
   ]
  },
  {
   "cell_type": "code",
   "execution_count": 13,
   "id": "f97b7cbd-3660-471a-b1bd-deba813cc5ac",
   "metadata": {},
   "outputs": [
    {
     "name": "stdout",
     "output_type": "stream",
     "text": [
      "Random number: {31}\n",
      "Random number: {6}\n",
      "Random number: {73}\n",
      "Random number: {95}\n",
      "Random number: {68}\n",
      "Random number: {20}\n",
      "Random number: {53}\n",
      "Random number: {90}\n"
     ]
    }
   ],
   "source": [
    "import random\n",
    "for i in range(8):\n",
    "    random_i = random.randint(1,100)\n",
    "    print(f\"Random number:\", {random_i})"
   ]
  },
  {
   "cell_type": "markdown",
   "id": "949924ef-4d27-4fba-974a-808640889d00",
   "metadata": {},
   "source": [
    "## 45.Write a program to convert radians to degrees and vice versa."
   ]
  },
  {
   "cell_type": "code",
   "execution_count": 57,
   "id": "3ea4d4dd-d2e1-4ce5-9b95-48fa9bd40533",
   "metadata": {},
   "outputs": [
    {
     "name": "stdout",
     "output_type": "stream",
     "text": [
      "degree: 29.999999999999996\n"
     ]
    }
   ],
   "source": [
    "r= mt.radians(30)\n",
    "d =mt.degrees(r)\n",
    "print(\"degree:\", d)"
   ]
  },
  {
   "cell_type": "markdown",
   "id": "32ccb9b2-d932-42c4-a67b-d5f43fc976b3",
   "metadata": {},
   "source": [
    "## 10. Regular Expression Module (5 Questions)"
   ]
  },
  {
   "cell_type": "markdown",
   "id": "e8feb1b3-946c-4960-83e1-25ad668c5182",
   "metadata": {},
   "source": [
    "## 46.Write a regex to check if a string is a valid email address."
   ]
  },
  {
   "cell_type": "code",
   "execution_count": 16,
   "id": "f387080e-8336-4f6e-9e0e-cbb99b8ed7b2",
   "metadata": {},
   "outputs": [],
   "source": [
    "import re"
   ]
  },
  {
   "cell_type": "code",
   "execution_count": 17,
   "id": "7d06aded-47de-44e5-a75f-447702bd1afe",
   "metadata": {},
   "outputs": [
    {
     "name": "stdout",
     "output_type": "stream",
     "text": [
      "['support@example.com', 'sales@mydomain.org', '34kghig@gmail.co.in']\n"
     ]
    }
   ],
   "source": [
    "text = \"Contact us at support@example.com or sales@mydomain.org, 34kghig@gmail.co.in\"\n",
    "emails = re.findall(r'\\b[\\w.-]+@[\\w.-]+\\.\\w+\\b', text)\n",
    "print(emails)"
   ]
  },
  {
   "cell_type": "markdown",
   "id": "f00a4c89-4ebd-4794-893b-2d3eb99bcf4b",
   "metadata": {},
   "source": [
    "## 47.Write a regex to extract all numbers from a string."
   ]
  },
  {
   "cell_type": "code",
   "execution_count": 63,
   "id": "8d123ead-b23a-4a76-851c-62d1fc915674",
   "metadata": {},
   "outputs": [
    {
     "name": "stdout",
     "output_type": "stream",
     "text": [
      "['7', '7', '8']\n"
     ]
    }
   ],
   "source": [
    "import re\n",
    "n = \"alll778P@ss\"\n",
    "match = re.findall(r'\\d', n)\n",
    "print(match)"
   ]
  },
  {
   "cell_type": "markdown",
   "id": "fd3282e5-58a0-4c0b-97a1-b4df0887c986",
   "metadata": {},
   "source": [
    "## 48.Write a regex to validate if a string is a valid Indian mobile number (10 digits)."
   ]
  },
  {
   "cell_type": "code",
   "execution_count": 20,
   "id": "d1ba37fd-0e04-429c-a77a-1c3eb8ff8e4d",
   "metadata": {},
   "outputs": [
    {
     "name": "stdout",
     "output_type": "stream",
     "text": [
      "['9876543210', '919876543210', '916545438567']\n"
     ]
    }
   ],
   "source": [
    "text = \"Call me at 9876543210 or 919876543210 or +916545438567.\"\n",
    "phones = re.findall(r'\\b(?:\\+91|91)?[6-9]\\d{9}\\b', text)\n",
    "print(phones)"
   ]
  },
  {
   "cell_type": "markdown",
   "id": "b3a7b6d4-89ee-4929-b852-cc1cd2d33c88",
   "metadata": {},
   "source": [
    "## 49.Write a regex to find all words starting with a capital letter in a sentence."
   ]
  },
  {
   "cell_type": "code",
   "execution_count": 23,
   "id": "ad96626f-2c3e-433b-987e-0e4ad1dffb63",
   "metadata": {},
   "outputs": [
    {
     "name": "stdout",
     "output_type": "stream",
     "text": [
      "['India', 'Country', 'Taj', 'Mahal', 'Agra']\n"
     ]
    }
   ],
   "source": [
    "text = \"India is a beautiful Country with the Taj Mahal in Agra.\"\n",
    "caps = re.findall(r'\\b[A-Z][a-z]*\\b', text)\n",
    "print(caps)"
   ]
  },
  {
   "cell_type": "markdown",
   "id": "56de4bbd-fbad-45c1-ab3c-059a7461b7d2",
   "metadata": {},
   "source": [
    "## 50.Write a regex to replace all spaces in a string with a hyphen."
   ]
  },
  {
   "cell_type": "code",
   "execution_count": 24,
   "id": "4350027d-a1c8-47eb-91b4-b945b866f907",
   "metadata": {},
   "outputs": [
    {
     "name": "stdout",
     "output_type": "stream",
     "text": [
      "Python is great for data science.\n"
     ]
    }
   ],
   "source": [
    "text = \"Python    is   great   for  data  science.\"\n",
    "cleaned = re.sub(r'\\s+', ' ', text)\n",
    "print(cleaned)"
   ]
  },
  {
   "cell_type": "code",
   "execution_count": null,
   "id": "ad730586-156b-468b-9915-b7b5c913fc3d",
   "metadata": {},
   "outputs": [],
   "source": []
  }
 ],
 "metadata": {
  "kernelspec": {
   "display_name": "Python [conda env:base] *",
   "language": "python",
   "name": "conda-base-py"
  },
  "language_info": {
   "codemirror_mode": {
    "name": "ipython",
    "version": 3
   },
   "file_extension": ".py",
   "mimetype": "text/x-python",
   "name": "python",
   "nbconvert_exporter": "python",
   "pygments_lexer": "ipython3",
   "version": "3.13.5"
  }
 },
 "nbformat": 4,
 "nbformat_minor": 5
}
