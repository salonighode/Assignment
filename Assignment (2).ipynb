{
 "cells": [
  {
   "cell_type": "markdown",
   "id": "1dcd4325-a36b-419b-8224-7ad7f8cfa550",
   "metadata": {},
   "source": [
    "## 1. String (5 Questions)"
   ]
  },
  {
   "cell_type": "markdown",
   "id": "ad472e44-9683-44da-b672-538af7d804e0",
   "metadata": {},
   "source": [
    "## 1. Check if a given string is a palindrome."
   ]
  },
  {
   "cell_type": "code",
   "execution_count": 8,
   "id": "6682d0cb-4b3f-449e-bae7-81548a550c7b",
   "metadata": {},
   "outputs": [
    {
     "name": "stdin",
     "output_type": "stream",
     "text": [
      "enter a string: 121\n"
     ]
    },
    {
     "name": "stdout",
     "output_type": "stream",
     "text": [
      "string is palindrome\n"
     ]
    }
   ],
   "source": [
    "str=input(\"enter a string:\")\n",
    "if str == str[::-1]:\n",
    " print(\"string is palindrome\")\n",
    "else: \n",
    " print(\"string is not palindrome\")"
   ]
  },
  {
   "cell_type": "markdown",
   "id": "0fecf36c-98e6-4da0-bcf6-1c624b1aa515",
   "metadata": {},
   "source": [
    "## 2. Count the number of vowels in a string and store the result in a dictionary."
   ]
  },
  {
   "cell_type": "code",
   "execution_count": 8,
   "id": "b32119cf-a85c-41cf-9b12-78cdd85ad3e7",
   "metadata": {},
   "outputs": [
    {
     "name": "stdout",
     "output_type": "stream",
     "text": [
      "{'a': 1, 'e': 1, 'i': 1, 'o': 1, 'u': 1}\n"
     ]
    }
   ],
   "source": [
    "s = \"education\"\n",
    "vowels = \"aeiou\"\n",
    "count = {v:s.count(v) for v in vowels }\n",
    "print(count)"
   ]
  },
  {
   "cell_type": "code",
   "execution_count": 39,
   "id": "72636910-a887-4da5-bcdd-1a98bcc44a00",
   "metadata": {},
   "outputs": [
    {
     "name": "stdout",
     "output_type": "stream",
     "text": [
      "{'o': 1}\n"
     ]
    }
   ],
   "source": [
    "t = \"python\"\n",
    "vowels= \"aeiou\"\n",
    "vowel_counts = {}\n",
    "for char in t.lower():\n",
    "    if char in vowels:\n",
    "        vowel_counts[char] = vowel_counts.get(char, 0) + 1\n",
    "        print(vowel_counts)\n"
   ]
  },
  {
   "cell_type": "markdown",
   "id": "7964733f-bedd-40a3-9eed-1ebfef270761",
   "metadata": {},
   "source": [
    "## 3. Convert the first letter of each word in a string to uppercase (title case manually)."
   ]
  },
  {
   "cell_type": "code",
   "execution_count": 32,
   "id": "4b9febdf-c36c-4780-a67f-d6bcea21d7b5",
   "metadata": {},
   "outputs": [
    {
     "name": "stdin",
     "output_type": "stream",
     "text": [
      "enter a string: saloni\n"
     ]
    },
    {
     "data": {
      "text/plain": [
       "'Saloni'"
      ]
     },
     "execution_count": 32,
     "metadata": {},
     "output_type": "execute_result"
    }
   ],
   "source": [
    "str=input(\"enter a string:\")\n",
    "str.title()\n",
    " "
   ]
  },
  {
   "cell_type": "markdown",
   "id": "9bd9bc12-83cc-4658-803e-df49de36f595",
   "metadata": {},
   "source": [
    "## 4. Find the most frequently occurring character in a string."
   ]
  },
  {
   "cell_type": "code",
   "execution_count": 4,
   "id": "3d7bfdf4-a61c-4aae-a663-c520673d739f",
   "metadata": {},
   "outputs": [
    {
     "name": "stdout",
     "output_type": "stream",
     "text": [
      "a\n"
     ]
    }
   ],
   "source": [
    "s = \"banana\"\n",
    "frequency = {ch:s.count(ch) for ch in s}\n",
    "print(max(frequency, key = frequency.get))\n"
   ]
  },
  {
   "cell_type": "markdown",
   "id": "684acece-34af-4ce3-839e-f14c17358c34",
   "metadata": {},
   "source": [
    "## 5. Count digits, alphabets, and special characters separately in a string."
   ]
  },
  {
   "cell_type": "code",
   "execution_count": 2,
   "id": "449b94d1-0ded-43f4-8388-999b25155ed4",
   "metadata": {},
   "outputs": [
    {
     "name": "stdout",
     "output_type": "stream",
     "text": [
      "alphabets: 5\n",
      "Digits: 3\n",
      "Special_Characters: 2\n"
     ]
    }
   ],
   "source": [
    "s=\"hello@123!\"\n",
    "alphabets=0\n",
    "digits=0\n",
    "special_chars=0\n",
    "for char in s:\n",
    "    if char.isalpha():\n",
    "        alphabets+=1\n",
    "       \n",
    "    elif char.isdigit():\n",
    "        digits+=1\n",
    "       \n",
    "    else:\n",
    "        special_chars+=1\n",
    "       \n",
    "print(\"alphabets:\",alphabets)\n",
    "print(\"Digits:\",digits)\n",
    "print(\"Special_Characters:\",special_chars)"
   ]
  },
  {
   "cell_type": "markdown",
   "id": "83efb485-2580-4a98-afed-2f5698d6cfd8",
   "metadata": {},
   "source": [
    "## 2. List (5 Questions)"
   ]
  },
  {
   "cell_type": "markdown",
   "id": "a4449ccd-358c-44d8-bc21-8ac5415843d5",
   "metadata": {},
   "source": [
    "## 6. Remove duplicate elements from a list without using set()."
   ]
  },
  {
   "cell_type": "code",
   "execution_count": 10,
   "id": "1b2f9eeb-da0d-4ae9-a747-c7c8f94b85aa",
   "metadata": {},
   "outputs": [
    {
     "name": "stdout",
     "output_type": "stream",
     "text": [
      "[1, 1, 2, 3, 4, 5, 5, 6, 7, 7, 8, 9, 0]\n"
     ]
    }
   ],
   "source": [
    "l1 = [1,1,2,2,3,4,5,5,6,7,7,8,9,0]\n",
    "l1.remove(2)\n",
    "print(l1)"
   ]
  },
  {
   "cell_type": "markdown",
   "id": "16d2d6f2-e7a4-425a-933a-d213ebe26602",
   "metadata": {},
   "source": [
    "## 7. Reverse a list without using built-in functions."
   ]
  },
  {
   "cell_type": "code",
   "execution_count": 10,
   "id": "30211f0c-86b9-4c9f-8865-791790d0240b",
   "metadata": {},
   "outputs": [],
   "source": [
    "l1 = [1,2,3,4,5,6,7,8,9,0]"
   ]
  },
  {
   "cell_type": "code",
   "execution_count": 11,
   "id": "ab6baf44-4e44-4eaf-897e-d7edc8834f32",
   "metadata": {},
   "outputs": [
    {
     "data": {
      "text/plain": [
       "[0, 9, 8, 7, 6, 5, 4, 3, 2, 1]"
      ]
     },
     "execution_count": 11,
     "metadata": {},
     "output_type": "execute_result"
    }
   ],
   "source": [
    "l1[::-1]"
   ]
  },
  {
   "cell_type": "markdown",
   "id": "0ae95363-a5f8-40d8-a4c9-91ee86a867b4",
   "metadata": {},
   "source": [
    "## 8. Find the 2nd largest and 2nd smallest element in a list."
   ]
  },
  {
   "cell_type": "code",
   "execution_count": 2,
   "id": "a4a8867e-aa5b-48d8-8b05-1b3a79e63c13",
   "metadata": {},
   "outputs": [
    {
     "name": "stdout",
     "output_type": "stream",
     "text": [
      "Original list:[1, 2, 3, 4, 5, 6, 7, 8, 9]\n",
      "second largest element:8\n",
      "second smallest element:2\n"
     ]
    }
   ],
   "source": [
    "my_list = [1,2,3,4,5,6,7,8,9]\n",
    "unique_sorted = sorted(list(set(my_list)))\n",
    "second_largest = unique_sorted[-2]\n",
    "second_smallest =unique_sorted[1]\n",
    "print(f\"Original list:{my_list}\")\n",
    "print(f\"second largest element:{second_largest}\")\n",
    "print(f\"second smallest element:{second_smallest}\")\n",
    "\n"
   ]
  },
  {
   "cell_type": "markdown",
   "id": "8c60bcbc-afd4-4b2e-9cee-7ef3f19a320f",
   "metadata": {},
   "source": [
    "## 9. Store the square of each element of a list into a new list (using list comprehension)."
   ]
  },
  {
   "cell_type": "code",
   "execution_count": 3,
   "id": "e101672f-8866-4588-be7f-42354ad878dd",
   "metadata": {},
   "outputs": [
    {
     "name": "stdout",
     "output_type": "stream",
     "text": [
      "[1, 4, 9, 16, 25, 36, 49, 64, 81]\n"
     ]
    }
   ],
   "source": [
    "l2 = [1,2,3,4,5,6,7,8,9]\n",
    "squares = [x**2 for x in l2]\n",
    "print(squares)"
   ]
  },
  {
   "cell_type": "markdown",
   "id": "f35c2646-a7c0-47e1-982f-ccd7667b8660",
   "metadata": {},
   "source": [
    "## 10. Flatten a nested list into a single list"
   ]
  },
  {
   "cell_type": "code",
   "execution_count": 6,
   "id": "3330d0a6-8c7f-4a46-8fe5-155fedcf6d91",
   "metadata": {},
   "outputs": [
    {
     "data": {
      "text/plain": [
       "[1, 2, 3, 4, 5, 6]"
      ]
     },
     "execution_count": 6,
     "metadata": {},
     "output_type": "execute_result"
    }
   ],
   "source": [
    "nested = [[1,2],[3,4],[5,6]]\n",
    "[x for sub in nested for x in sub]"
   ]
  },
  {
   "cell_type": "markdown",
   "id": "25c46bc0-aaf9-4a0c-975f-f2623893619c",
   "metadata": {},
   "source": [
    "## 3. Tuple (5 Questions)"
   ]
  },
  {
   "cell_type": "markdown",
   "id": "d163f9d7-8ca4-4fb1-b22b-0558ca839955",
   "metadata": {},
   "source": [
    "## 11. Reverse a tuple without using [::-1]."
   ]
  },
  {
   "cell_type": "code",
   "execution_count": 11,
   "id": "1bdd72bb-02d2-41b4-860b-f5e82437c385",
   "metadata": {},
   "outputs": [
    {
     "name": "stdout",
     "output_type": "stream",
     "text": [
      "['grapes', 'banana', 'apple']\n"
     ]
    }
   ],
   "source": [
    "fruits=[\"apple\",\"banana\",\"grapes\"]\n",
    "fruits.reverse()\n",
    "print(fruits)"
   ]
  },
  {
   "cell_type": "markdown",
   "id": "44c60ca5-dc52-4615-a0f8-4f497d574458",
   "metadata": {},
   "source": [
    "## 12. Extract unique elements from a tuple and store them in a new list."
   ]
  },
  {
   "cell_type": "code",
   "execution_count": 3,
   "id": "0afe6171-21bd-4936-8166-2ae5c33a4c27",
   "metadata": {},
   "outputs": [
    {
     "name": "stdout",
     "output_type": "stream",
     "text": [
      "original tuple:(1, 2, 3, 3, 4, 4, 5, 5)\n",
      "list with unique element:[1, 2, 3, 4, 5]\n"
     ]
    }
   ],
   "source": [
    "t = (1,2,3,3,4,4,5,5)\n",
    "u_element_set = set(t)\n",
    "u_element_list = list(u_element_set)\n",
    "print(f\"original tuple:{t}\")\n",
    "print(f\"list with unique element:{u_element_list}\")"
   ]
  },
  {
   "cell_type": "markdown",
   "id": "3ec4e3c5-37a0-4fc6-a029-0ee2a8859a86",
   "metadata": {},
   "source": [
    "## 13. Concatenate two tuples and sort them."
   ]
  },
  {
   "cell_type": "code",
   "execution_count": 12,
   "id": "7bc03536-c930-4570-82fb-de06e92114c4",
   "metadata": {},
   "outputs": [
    {
     "name": "stdout",
     "output_type": "stream",
     "text": [
      "[1, 2, 3, 4, 4, 5, 6, 7, 8, 9, 10]\n"
     ]
    }
   ],
   "source": [
    "tup = (1,2,3,4,4,5)\n",
    "tup1 = (8,9,7,6,10)\n",
    "t=(tup + tup1)\n",
    "print(sorted(t))\n"
   ]
  },
  {
   "cell_type": "markdown",
   "id": "8f64e451-820b-4cdf-8782-6083b47b5c22",
   "metadata": {},
   "source": [
    "## 14. Count the frequency of an element in a tuple without using count()."
   ]
  },
  {
   "cell_type": "code",
   "execution_count": 13,
   "id": "e35fa92c-2095-4b20-a83a-4db893732f87",
   "metadata": {},
   "outputs": [
    {
     "name": "stdout",
     "output_type": "stream",
     "text": [
      "2\n"
     ]
    }
   ],
   "source": [
    "tup = (1,2,2,3,4,4,5)\n",
    "element = 2\n",
    "count = sum (1 for x in tup if x == element)\n",
    "print(count)"
   ]
  },
  {
   "cell_type": "markdown",
   "id": "3f86716f-7b63-45ca-bc39-8efb6183ec1f",
   "metadata": {},
   "source": [
    "## 15. From a tuple of numbers, create two tuples: one with even numbers and one with odd numbers."
   ]
  },
  {
   "cell_type": "code",
   "execution_count": 2,
   "id": "447e9a19-f0b4-49c4-8c3d-be6e93fb13c0",
   "metadata": {},
   "outputs": [
    {
     "name": "stdout",
     "output_type": "stream",
     "text": [
      "original tuple:(1, 2, 3, 4, 5, 6, 7, 8, 9, 10)\n",
      "tuple with even no:(2, 4, 6, 8, 10)\n",
      "tuple with odd no:(1, 3, 5, 7, 9)\n"
     ]
    }
   ],
   "source": [
    "t=(1,2,3,4,5,6,7,8,9,10)\n",
    "even_list = []\n",
    "odd_list = []\n",
    "for i in t:\n",
    "    if i % 2 == 0:\n",
    "        even_list.append(i)\n",
    "    else:\n",
    "        odd_list.append(i)\n",
    "        \n",
    "even_tuple = tuple(even_list)\n",
    "odd_tuple = tuple(odd_list)\n",
    "print(f\"original tuple:{t}\")\n",
    "print(f\"tuple with even no:{even_tuple}\")\n",
    "print(f\"tuple with odd no:{odd_tuple}\")"
   ]
  },
  {
   "cell_type": "code",
   "execution_count": 11,
   "id": "ec7f47e2-7729-4b45-a8c4-dc9c0fe04120",
   "metadata": {},
   "outputs": [
    {
     "name": "stdout",
     "output_type": "stream",
     "text": [
      "Even (2, 4, 6, 8)\n",
      "Odd (1, 3, 5, 7, 9)\n"
     ]
    }
   ],
   "source": [
    "t = (1,2,3,4,5,6,7,8,9)\n",
    "even = tuple(i for i in t if i % 2 == 0)\n",
    "odd = tuple(i for i in t if i % 2 != 0)\n",
    "print(\"Even\",even)\n",
    "print(\"Odd\",odd)"
   ]
  },
  {
   "cell_type": "markdown",
   "id": "b552a67e-6bbf-47b1-8bd8-d16ee248e3ab",
   "metadata": {},
   "source": [
    "## 4. Set (5 Questions)"
   ]
  },
  {
   "cell_type": "markdown",
   "id": "d5939f7b-c585-4f10-84e4-9c8985e1f233",
   "metadata": {},
   "source": [
    "## 16. Perform union, intersection, and difference of two sets without using built-in operators."
   ]
  },
  {
   "cell_type": "code",
   "execution_count": 4,
   "id": "b3e7974d-6a7b-4430-9347-5600f14bdaf4",
   "metadata": {},
   "outputs": [
    {
     "name": "stdout",
     "output_type": "stream",
     "text": [
      "{1, 2, 3, 4, 5, 6}\n",
      "set()\n",
      "{1, 2, 3}\n"
     ]
    }
   ],
   "source": [
    "s1={1,2,3}\n",
    "s2={4,5,6}\n",
    "print(s1|s2)\n",
    "print(s1&s2)\n",
    "print(s1-s2)\n"
   ]
  },
  {
   "cell_type": "markdown",
   "id": "29fac7e4-5485-459a-9c09-4edb2bf32f8c",
   "metadata": {},
   "source": [
    "## 17. Remove a random element from a set (without using pop())."
   ]
  },
  {
   "cell_type": "code",
   "execution_count": 3,
   "id": "01d1f252-cd8f-4f00-a61c-f4d15ce55a45",
   "metadata": {},
   "outputs": [
    {
     "name": "stdout",
     "output_type": "stream",
     "text": [
      "{2, 3, 4}\n"
     ]
    }
   ],
   "source": [
    "s={1,2,3,4}\n",
    "s.remove(1)\n",
    "print(s)"
   ]
  },
  {
   "cell_type": "markdown",
   "id": "da0acd7b-cb7b-4ac1-8e24-d75c5d85fd60",
   "metadata": {},
   "source": [
    "## 18. Convert a list into a set and check if duplicates are removed"
   ]
  },
  {
   "cell_type": "code",
   "execution_count": 33,
   "id": "9d3f3bd4-3c79-4d74-a665-993c5ed173db",
   "metadata": {},
   "outputs": [],
   "source": [
    "l1 = [1,2,3,1,2,3,4]\n",
    "l1 = {}"
   ]
  },
  {
   "cell_type": "code",
   "execution_count": 34,
   "id": "f512a706-65a8-4d75-b1b1-e1d95bf53adc",
   "metadata": {},
   "outputs": [
    {
     "data": {
      "text/plain": [
       "{}"
      ]
     },
     "execution_count": 34,
     "metadata": {},
     "output_type": "execute_result"
    }
   ],
   "source": [
    "l1"
   ]
  },
  {
   "cell_type": "markdown",
   "id": "4d1df8e9-4d9a-4376-ba62-dec80616eee9",
   "metadata": {},
   "source": [
    "## 19. Check if two sets are disjoint."
   ]
  },
  {
   "cell_type": "code",
   "execution_count": 17,
   "id": "1c1bed4f-94f4-48c7-8a4f-0c01d7eac385",
   "metadata": {},
   "outputs": [
    {
     "data": {
      "text/plain": [
       "True"
      ]
     },
     "execution_count": 17,
     "metadata": {},
     "output_type": "execute_result"
    }
   ],
   "source": [
    "a = {1,2}\n",
    "b = {3,4}\n",
    "a.isdisjoint(b)"
   ]
  },
  {
   "cell_type": "markdown",
   "id": "286157d0-ace3-4cb3-a39f-6392e845bac4",
   "metadata": {},
   "source": [
    "## 20. Find the sum of all elements in a set."
   ]
  },
  {
   "cell_type": "code",
   "execution_count": 18,
   "id": "a3e105c5-869d-406f-80f5-4d1e9c3a1a2b",
   "metadata": {},
   "outputs": [
    {
     "data": {
      "text/plain": [
       "15"
      ]
     },
     "execution_count": 18,
     "metadata": {},
     "output_type": "execute_result"
    }
   ],
   "source": [
    "s = (1,2,3,4,5)\n",
    "sum(s)"
   ]
  },
  {
   "cell_type": "markdown",
   "id": "61223b10-73f3-46db-9e24-582f2a5585b6",
   "metadata": {},
   "source": [
    "## 5. Dictionary (5 Questions)"
   ]
  },
  {
   "cell_type": "markdown",
   "id": "8f5f46f0-1bc0-4772-b7e3-95dbf32a30c6",
   "metadata": {},
   "source": [
    "## 21. Create a dictionary and print keys in ascending order."
   ]
  },
  {
   "cell_type": "code",
   "execution_count": 21,
   "id": "59603324-85b5-4a13-9b21-ac744b3fb0d8",
   "metadata": {},
   "outputs": [
    {
     "name": "stdout",
     "output_type": "stream",
     "text": [
      "a 1\n",
      "b 2\n",
      "c 3\n"
     ]
    }
   ],
   "source": [
    "d1 = {\"b\":2, \"a\":1, \"c\":3,}\n",
    "for k in sorted(d1.keys()):\n",
    "    print(k, d1[k])"
   ]
  },
  {
   "cell_type": "markdown",
   "id": "a73ba53a-050f-4eff-af32-7428ef613e0d",
   "metadata": {},
   "source": [
    "## 22. Add a new key to a dictionary with value equal to the sum of existing values"
   ]
  },
  {
   "cell_type": "code",
   "execution_count": 25,
   "id": "0e608f99-1652-4b8b-a956-a6b911abbed4",
   "metadata": {},
   "outputs": [
    {
     "name": "stdout",
     "output_type": "stream",
     "text": [
      "{'x': 10, 'y': 20, 'total': 30}\n"
     ]
    }
   ],
   "source": [
    "d1 = {\"x\":10, \"y\":20}\n",
    "d1[\"total\"] = sum(d1.values())\n",
    "print(d1)"
   ]
  },
  {
   "cell_type": "markdown",
   "id": "567ca1e1-5c75-42cd-a0ae-68f4277a6b6a",
   "metadata": {},
   "source": [
    "## 23. Merge two dictionaries into one."
   ]
  },
  {
   "cell_type": "code",
   "execution_count": 26,
   "id": "284741ee-9ec8-4087-a49e-adfce26f3e54",
   "metadata": {},
   "outputs": [],
   "source": [
    "d1 = {\"jan\":31, \"feb\": 28, \"march\":31, \"april\":30}"
   ]
  },
  {
   "cell_type": "code",
   "execution_count": 28,
   "id": "9bb84d27-9975-4df8-8906-89988b72dbae",
   "metadata": {},
   "outputs": [],
   "source": [
    "d2 = {'feb': 28, 'march': 31, 'june': 30, 'may': None}"
   ]
  },
  {
   "cell_type": "code",
   "execution_count": 26,
   "id": "a2eb9f63-b7cf-4b05-98a2-3997fb8666f6",
   "metadata": {},
   "outputs": [
    {
     "name": "stdout",
     "output_type": "stream",
     "text": [
      "{'a': 1, 'b': 2}\n"
     ]
    }
   ],
   "source": [
    "d1, d2 = {\"a\":1}, {\"b\":2}\n",
    "merged = {**d1, **d2}\n",
    "print(merged)"
   ]
  },
  {
   "cell_type": "markdown",
   "id": "25d3ad6b-8e32-4327-95cb-700fb8ed4194",
   "metadata": {},
   "source": [
    "## 24. Find the key with the largest value in a dictionary."
   ]
  },
  {
   "cell_type": "code",
   "execution_count": 27,
   "id": "1d131323-9e0c-406b-96de-b07162673e41",
   "metadata": {},
   "outputs": [
    {
     "name": "stdout",
     "output_type": "stream",
     "text": [
      "b\n"
     ]
    }
   ],
   "source": [
    "\n",
    "d = {\"a\":10, \"b\":25,\"c\":5}\n",
    "print(max(d, key=d.get))"
   ]
  },
  {
   "cell_type": "markdown",
   "id": "a70f0086-78ff-4ab2-ab3b-b7fca378a624",
   "metadata": {},
   "source": [
    "## 25. Store the frequency of characters of a string in a dictionary."
   ]
  },
  {
   "cell_type": "code",
   "execution_count": 28,
   "id": "9cb96953-2fe6-4a67-aaeb-7dea8ccd8f82",
   "metadata": {},
   "outputs": [
    {
     "name": "stdout",
     "output_type": "stream",
     "text": [
      "{'a': 3, 'b': 1, 'n': 2}\n"
     ]
    }
   ],
   "source": [
    "\n",
    "s = \"banana\"\n",
    "freq = {ch: s.count(ch) for ch in set(s)}\n",
    "print(freq)"
   ]
  },
  {
   "cell_type": "markdown",
   "id": "aefeb716-3f8e-4052-95b8-55dc0b5c0a8a",
   "metadata": {},
   "source": [
    "## 6. Conditional Statements (5 Questions)"
   ]
  },
  {
   "cell_type": "markdown",
   "id": "fd48c95d-9ee6-43cc-9193-ced6adbf1194",
   "metadata": {},
   "source": [
    "## 26. Take age as input and check if the person is eligible to vote or not."
   ]
  },
  {
   "cell_type": "code",
   "execution_count": 5,
   "id": "346be630-d7cb-4f06-a0de-c3c99356a7e4",
   "metadata": {},
   "outputs": [
    {
     "name": "stdin",
     "output_type": "stream",
     "text": [
      "enter your age:  20\n"
     ]
    },
    {
     "name": "stdout",
     "output_type": "stream",
     "text": [
      "eligible to vote\n"
     ]
    }
   ],
   "source": [
    "\n",
    "age = int(input(\"enter your age: \"))\n",
    "\n",
    "if age>=18:\n",
    "  print(\"eligible to vote\")\n",
    "else:\n",
    "  print(\"not eligible to vote\")\n"
   ]
  },
  {
   "cell_type": "markdown",
   "id": "672565f5-56f5-423a-b083-721df30020e0",
   "metadata": {},
   "source": [
    "## 27. Find the largest among three numbers (using nested if)."
   ]
  },
  {
   "cell_type": "code",
   "execution_count": 29,
   "id": "99cb10b3-1279-4e4a-9e9d-e4b7c6d8941f",
   "metadata": {},
   "outputs": [
    {
     "name": "stdout",
     "output_type": "stream",
     "text": [
      "largest: 20\n"
     ]
    }
   ],
   "source": [
    "\n",
    "a,b,c = 10,20,15\n",
    "if a>b and a>c:\n",
    "    print(\"largest:\", a)\n",
    "elif b>c:\n",
    "    print(\"largest:\",b)\n",
    "else:\n",
    "    print(\"largest:\",c)"
   ]
  },
  {
   "cell_type": "markdown",
   "id": "3b4983f5-2898-42a2-9307-57c1a7b530d1",
   "metadata": {},
   "source": [
    "## 28. Check if a given number is prime or not."
   ]
  },
  {
   "cell_type": "code",
   "execution_count": 7,
   "id": "757cc4c7-630c-44d6-8aab-399354931eb0",
   "metadata": {},
   "outputs": [
    {
     "name": "stdin",
     "output_type": "stream",
     "text": [
      "enter a number: 2\n"
     ]
    },
    {
     "name": "stdout",
     "output_type": "stream",
     "text": [
      "number is not prime\n"
     ]
    }
   ],
   "source": [
    "\n",
    "num=int(input(\"enter a number:\"))\n",
    "if num%2==1:\n",
    "    print(\"number is prime\")\n",
    "else:\n",
    "    print(\"number is not prime\")"
   ]
  },
  {
   "cell_type": "markdown",
   "id": "b0230b45-0835-4957-9427-4cfe4356ae96",
   "metadata": {},
   "source": [
    "## 29. Assign grade (A, B, C, Fail) based on marks input."
   ]
  },
  {
   "cell_type": "code",
   "execution_count": 1,
   "id": "546f5655-4166-46b6-849e-88528a1c0f58",
   "metadata": {},
   "outputs": [],
   "source": [
    "def assign_grade():\n",
    "    marks = int(input(\"Enter your marks: \"))\n",
    "    if marks >= 90:\n",
    "        print(\"Grade: A\")\n",
    "    elif marks >= 75:\n",
    "        print(\"Grade: B\")\n",
    "    elif marks >= 50:\n",
    "        print(\"Grade: C\")\n",
    "    else:\n",
    "        print(\"Grade: Fail\")"
   ]
  },
  {
   "cell_type": "code",
   "execution_count": 3,
   "id": "806028ef-9917-400a-beca-dc44dde0a846",
   "metadata": {},
   "outputs": [
    {
     "name": "stdin",
     "output_type": "stream",
     "text": [
      "Enter your marks:  76\n"
     ]
    },
    {
     "name": "stdout",
     "output_type": "stream",
     "text": [
      "Grade: B\n"
     ]
    }
   ],
   "source": [
    "assign_grade()"
   ]
  },
  {
   "cell_type": "markdown",
   "id": "c66c8bb9-1ae7-4adc-9db5-3934c8705588",
   "metadata": {},
   "source": [
    "## 30. Check if a number is positive, negative, or zero."
   ]
  },
  {
   "cell_type": "code",
   "execution_count": 6,
   "id": "918b1f83-919b-4a60-a22d-02f138f94291",
   "metadata": {},
   "outputs": [
    {
     "name": "stdin",
     "output_type": "stream",
     "text": [
      "enter number: 0\n"
     ]
    },
    {
     "name": "stdout",
     "output_type": "stream",
     "text": [
      "it is zero\n"
     ]
    }
   ],
   "source": [
    "\n",
    "num=int(input(\"enter number:\"))\n",
    "if num>0:\n",
    "   print(\"it is positive\")\n",
    "elif num<0:\n",
    "    print(\"it is negative\")\n",
    "\n",
    "else:\n",
    "    print(\"it is zero\")"
   ]
  },
  {
   "cell_type": "markdown",
   "id": "e4f2731f-f9bc-4631-b35e-6a89c6dbf603",
   "metadata": {},
   "source": [
    "## 7. Loops – For & While (5 Questions)"
   ]
  },
  {
   "cell_type": "markdown",
   "id": "ca439815-0166-4ef4-98d3-1e93d88ef66c",
   "metadata": {},
   "source": [
    "## 31. Print the first 10 numbers of the Fibonacci series using for loop."
   ]
  },
  {
   "cell_type": "code",
   "execution_count": 4,
   "id": "22b7168f-32dd-4432-a351-793fa5757e51",
   "metadata": {},
   "outputs": [
    {
     "name": "stdout",
     "output_type": "stream",
     "text": [
      "0 1 1 2 3 5 8 13 21 34 "
     ]
    }
   ],
   "source": [
    "a,b = 0,1\n",
    "for _ in range(10):\n",
    "    print(a,end= \" \")\n",
    "    a, b = b, a+b"
   ]
  },
  {
   "cell_type": "markdown",
   "id": "fdf20544-6dd5-442c-8ccd-60f9d9a33cbe",
   "metadata": {},
   "source": [
    "## 32. Find the factorial of a number using while loop."
   ]
  },
  {
   "cell_type": "code",
   "execution_count": 30,
   "id": "9ee37432-a383-46cf-a70d-5c4a85b7d98b",
   "metadata": {},
   "outputs": [
    {
     "name": "stdout",
     "output_type": "stream",
     "text": [
      "\n",
      "factorial: 120\n"
     ]
    }
   ],
   "source": [
    "\n",
    "n = 5\n",
    "fact = 1\n",
    "while n>0:\n",
    "    fact *= n\n",
    "    n -= 1\n",
    "print(\"\\nfactorial:\", fact)"
   ]
  },
  {
   "cell_type": "markdown",
   "id": "0dea94c0-9bed-464a-902a-064128550816",
   "metadata": {},
   "source": [
    "## 33. Input a number and find the sum of its digits using while loop."
   ]
  },
  {
   "cell_type": "code",
   "execution_count": 32,
   "id": "651c7c6e-94c4-4dad-acfa-99391afff43f",
   "metadata": {},
   "outputs": [
    {
     "name": "stdout",
     "output_type": "stream",
     "text": [
      "sum of digit 7\n",
      "sum of digit 11\n",
      "sum of digit 14\n",
      "sum of digit 16\n",
      "sum of digit 17\n"
     ]
    }
   ],
   "source": [
    "\n",
    "n = 12347\n",
    "s = 0\n",
    "while n>0:\n",
    "    s += n % 10\n",
    "    n //= 10\n",
    "    print(\"sum of digit\", s)"
   ]
  },
  {
   "cell_type": "markdown",
   "id": "d1cfc15e-6605-42dd-af21-ca2211460bed",
   "metadata": {},
   "source": [
    "## 34. Print all elements of a list in reverse order without using reverse()."
   ]
  },
  {
   "cell_type": "code",
   "execution_count": 5,
   "id": "1e4b6ce1-8ed3-4ad3-967e-7d9b1a267114",
   "metadata": {},
   "outputs": [
    {
     "name": "stdout",
     "output_type": "stream",
     "text": [
      "[50, 45, 40, 35, 30, 25, 20, 15, 10, 5]\n"
     ]
    }
   ],
   "source": [
    "z = [5,10,15,20,25,30,35,40,45,50]\n",
    "list = z[::-1]\n",
    "print(list)"
   ]
  },
  {
   "cell_type": "markdown",
   "id": "232bc20b-61b0-49b8-bff5-06a9c8eafd85",
   "metadata": {},
   "source": [
    "## 35. Print a star pattern (triangle) using nested loops."
   ]
  },
  {
   "cell_type": "code",
   "execution_count": 6,
   "id": "8e6a4ccb-d4cd-47e5-bb00-56e41df64e15",
   "metadata": {},
   "outputs": [
    {
     "name": "stdin",
     "output_type": "stream",
     "text": [
      "Enter the num: 6\n"
     ]
    },
    {
     "name": "stdout",
     "output_type": "stream",
     "text": [
      "* \n",
      "* * \n",
      "* * * \n",
      "* * * * \n",
      "* * * * * \n",
      "* * * * * * \n"
     ]
    }
   ],
   "source": [
    "num = int(input(\"Enter the num:\"))\n",
    "for i in range(num):\n",
    "    for j in range(i + 1):\n",
    "        print(\"*\",end = \" \")\n",
    "    print()\n"
   ]
  },
  {
   "cell_type": "markdown",
   "id": "969a6a91-f226-46b6-af0a-c5d4028f368d",
   "metadata": {},
   "source": [
    "## 8. File Handling (5 Questions)"
   ]
  },
  {
   "cell_type": "markdown",
   "id": "80d21456-2fbb-4904-8ffd-ab111d820e01",
   "metadata": {},
   "source": [
    "## 36. Write some text into a file and then read and print it."
   ]
  },
  {
   "cell_type": "code",
   "execution_count": 9,
   "id": "668e0530-a0d8-4b00-aa6c-7a4cc27080bd",
   "metadata": {},
   "outputs": [
    {
     "name": "stdout",
     "output_type": "stream",
     "text": [
      "hello python\n"
     ]
    }
   ],
   "source": [
    "with open(\"test.txt\",\"w\") as f:\n",
    "    f.write(\"hello python\")\n",
    "with open(\"test.txt\",\"r\") as f:\n",
    "    print(f.read())\n"
   ]
  },
  {
   "cell_type": "markdown",
   "id": "3be531d3-d530-4424-8f8b-9a2b99abce2e",
   "metadata": {},
   "source": [
    "## 37. Count the total number of lines in a file."
   ]
  },
  {
   "cell_type": "code",
   "execution_count": 33,
   "id": "7ad66767-f7d4-4b1a-bb97-a28d86cbe78f",
   "metadata": {},
   "outputs": [
    {
     "name": "stdout",
     "output_type": "stream",
     "text": [
      "lines: 3\n"
     ]
    }
   ],
   "source": [
    "#37\n",
    "with open(\"test.txt\", \"r\") as f :\n",
    "    print(\"lines:\", len(f.readlines()))"
   ]
  },
  {
   "cell_type": "markdown",
   "id": "6cce0452-a1a9-4ada-8c65-2b4525dbe69e",
   "metadata": {},
   "source": [
    "## 38. Count vowels and consonants in a file."
   ]
  },
  {
   "cell_type": "code",
   "execution_count": 35,
   "id": "bfa11dcf-31e6-4a2d-a039-289d9f3cd6c3",
   "metadata": {},
   "outputs": [
    {
     "name": "stdout",
     "output_type": "stream",
     "text": [
      "vowels: 27 consonants: 33\n"
     ]
    }
   ],
   "source": [
    "with open(\"test.txt\") as f:\n",
    "    text = f.read().lower()\n",
    "vowels = sum(ch in \"aeiou\" for ch in text)\n",
    "consonants = sum (ch. isalpha() and ch not in \"aeiou\" for ch in text)\n",
    "print(\"vowels:\", vowels, \"consonants:\", consonants)"
   ]
  },
  {
   "cell_type": "markdown",
   "id": "0766a1de-beef-4e21-91c0-6269ae47c444",
   "metadata": {},
   "source": [
    "## 39. Convert the content of a file into uppercase and store it in another file."
   ]
  },
  {
   "cell_type": "code",
   "execution_count": 10,
   "id": "a482ccdb-edb1-4eab-8616-c406256363c5",
   "metadata": {},
   "outputs": [],
   "source": [
    "with open(\"test.txt\") as f:\n",
    "    data = f.read().upper()\n",
    "with open(\"upper.txt\", \"w\") as f:\n",
    "    f.write(data)"
   ]
  },
  {
   "cell_type": "code",
   "execution_count": 11,
   "id": "0627e63d-24d1-406b-9531-6e26e221879f",
   "metadata": {},
   "outputs": [
    {
     "data": {
      "text/plain": [
       "'HELLO PYTHON'"
      ]
     },
     "execution_count": 11,
     "metadata": {},
     "output_type": "execute_result"
    }
   ],
   "source": [
    "f = open(\"upper.txt\", \"r\")\n",
    "f.read()"
   ]
  },
  {
   "cell_type": "markdown",
   "id": "f77aec83-ec42-4b9f-8745-9505978236f2",
   "metadata": {},
   "source": [
    "## 40. Read a CSV file and print its rows."
   ]
  },
  {
   "cell_type": "code",
   "execution_count": null,
   "id": "d12240a4-b987-4500-846d-ba9481819ef3",
   "metadata": {},
   "outputs": [],
   "source": [
    "import csv\n",
    "with open(\"123.txt\", newline=\"\") as f:\n",
    "    reader = csv.reader(f)\n",
    "    for row in reader:\n",
    "        print(row)"
   ]
  },
  {
   "cell_type": "markdown",
   "id": "f54709d9-36e5-4e7c-87dd-4c47a79c2d30",
   "metadata": {},
   "source": [
    "## 9. OS Module (5 Questions)"
   ]
  },
  {
   "cell_type": "markdown",
   "id": "e0d47b04-3cac-4991-abbf-082111020ced",
   "metadata": {},
   "source": [
    "## 41. Print the current working directory using os module.41. Print the current working directory using os module."
   ]
  },
  {
   "cell_type": "code",
   "execution_count": 13,
   "id": "279e198a-41b0-4c26-b2b1-5af7db72b1f9",
   "metadata": {},
   "outputs": [
    {
     "name": "stdout",
     "output_type": "stream",
     "text": [
      "C:\\Users\\salon\\python\n"
     ]
    }
   ],
   "source": [
    "import os\n",
    "print(os.getcwd())"
   ]
  },
  {
   "cell_type": "markdown",
   "id": "58a1c552-dbb4-40c9-9d6a-2cf3c7688858",
   "metadata": {},
   "source": [
    "## 42. Create a new folder using os module and create a file inside it."
   ]
  },
  {
   "cell_type": "code",
   "execution_count": 2,
   "id": "f072071e-4e96-42f1-8e1b-cf164ec1b723",
   "metadata": {},
   "outputs": [],
   "source": [
    "import os"
   ]
  },
  {
   "cell_type": "code",
   "execution_count": 12,
   "id": "fb112d97-31ab-4b0a-a532-406c5b0ee0e5",
   "metadata": {},
   "outputs": [
    {
     "data": {
      "text/plain": [
       "'C:\\\\Users\\\\salon\\\\python'"
      ]
     },
     "execution_count": 12,
     "metadata": {},
     "output_type": "execute_result"
    }
   ],
   "source": [
    "pwd"
   ]
  },
  {
   "cell_type": "code",
   "execution_count": 13,
   "id": "94b23d2e-00e9-47fd-9144-e3a2cbbcf763",
   "metadata": {},
   "outputs": [
    {
     "data": {
      "text/plain": [
       "'C:\\\\Users\\\\salon\\\\python'"
      ]
     },
     "execution_count": 13,
     "metadata": {},
     "output_type": "execute_result"
    }
   ],
   "source": [
    "os.getcwd()"
   ]
  },
  {
   "cell_type": "code",
   "execution_count": 14,
   "id": "507eb518-7524-4853-97bd-292b76650dd6",
   "metadata": {},
   "outputs": [],
   "source": [
    "os.chdir(\"C:\\\\Users\\\\salon\\\\Downloads\")"
   ]
  },
  {
   "cell_type": "code",
   "execution_count": 15,
   "id": "357d90ad-47b6-4854-aeeb-9d0a818f7358",
   "metadata": {},
   "outputs": [],
   "source": [
    "os.mkdir(\"pynewfolder\")"
   ]
  },
  {
   "cell_type": "code",
   "execution_count": 16,
   "id": "393cbcce-54a2-4a13-8f6c-c6d63070d7ae",
   "metadata": {},
   "outputs": [
    {
     "data": {
      "text/plain": [
       "['01. Python Basics.ipynb',\n",
       " '01. Python_Practice_Questions.pdf',\n",
       " '02. Build-in Functions.ipynb',\n",
       " '03. List and Operation.ipynb',\n",
       " '04. String and Operations.ipynb',\n",
       " '05. Tuple and operation.ipynb',\n",
       " '06. Set and operation.ipynb',\n",
       " '07. Dictionary and operations.ipynb',\n",
       " '08. Conditions-1.ipynb',\n",
       " '09. Conditions-2.ipynb',\n",
       " '10. Loops-1.ipynb',\n",
       " '11. loop-2.ipynb',\n",
       " '12. Loop-3.ipynb',\n",
       " '13. File_handling.ipynb',\n",
       " '14. Try and Except, Logging.ipynb',\n",
       " 'Anaconda3-2025.06-0-Windows-x86_64 (1).exe',\n",
       " 'application.pdf',\n",
       " 'birth.jpeg',\n",
       " 'desktop.ini',\n",
       " 'details (1).pdf',\n",
       " 'details (2).pdf',\n",
       " 'details.pdf',\n",
       " 'EFFD766898.pdf',\n",
       " 'EFFD902204.pdf',\n",
       " 'english.txt',\n",
       " 'ideaIC-2024.1.4.exe',\n",
       " 'IMG-20240816-WA0002.jpg',\n",
       " 'jdk-22_windows-x64_bin.msi',\n",
       " 'MSB.exe',\n",
       " 'organic-1.0.0 (1)',\n",
       " 'OTR-10023441867.pdf',\n",
       " 'photo.jpeg',\n",
       " 'py code.txt',\n",
       " 'pynewfolder',\n",
       " 'sabtool_win8_10_11_v170530.zip',\n",
       " 'SALONI RESUME NEW.docx',\n",
       " 'saloni.docx',\n",
       " 'SteamSetup.exe',\n",
       " 'VAISHNAVI KHADE.pdf',\n",
       " 'voter.jpeg',\n",
       " 'VSCodeUserSetup-x64-1.103.0.exe',\n",
       " 'WhatsApp Installer.exe']"
      ]
     },
     "execution_count": 16,
     "metadata": {},
     "output_type": "execute_result"
    }
   ],
   "source": [
    "os.listdir()"
   ]
  },
  {
   "cell_type": "code",
   "execution_count": 17,
   "id": "48dde574-63f6-4a45-9f9f-cf7d8ea4ea7a",
   "metadata": {},
   "outputs": [],
   "source": [
    "os.chdir(\"C:\\\\Users\\\\salon\\\\Downloads\\\\pynewfolder\")"
   ]
  },
  {
   "cell_type": "code",
   "execution_count": 19,
   "id": "48bb3bc8-94a4-4fac-8983-c0df7c78a633",
   "metadata": {},
   "outputs": [
    {
     "name": "stdout",
     "output_type": "stream",
     "text": [
      "Writing newfile.txt\n"
     ]
    }
   ],
   "source": [
    "%%writefile newfile.txt\n",
    "!hello python"
   ]
  },
  {
   "cell_type": "code",
   "execution_count": 20,
   "id": "dc5337da-6221-429a-8c48-73d94d49f437",
   "metadata": {},
   "outputs": [
    {
     "data": {
      "text/plain": [
       "['newfile.txt']"
      ]
     },
     "execution_count": 20,
     "metadata": {},
     "output_type": "execute_result"
    }
   ],
   "source": [
    "os.listdir()"
   ]
  },
  {
   "cell_type": "markdown",
   "id": "c56eb1d3-4d1e-44a0-88cd-4583a472790f",
   "metadata": {},
   "source": [
    "## 43. List all files and folders inside a directory."
   ]
  },
  {
   "cell_type": "code",
   "execution_count": 21,
   "id": "08307272-5dc5-4c0e-883f-2a5602543ef7",
   "metadata": {},
   "outputs": [],
   "source": [
    "os.chdir(\"C:\\\\Users\\\\salon\\\\Downloads\")"
   ]
  },
  {
   "cell_type": "code",
   "execution_count": 22,
   "id": "35487e23-a611-423c-b355-b735555cf61a",
   "metadata": {},
   "outputs": [
    {
     "data": {
      "text/plain": [
       "['01. Python Basics.ipynb',\n",
       " '01. Python_Practice_Questions.pdf',\n",
       " '02. Build-in Functions.ipynb',\n",
       " '03. List and Operation.ipynb',\n",
       " '04. String and Operations.ipynb',\n",
       " '05. Tuple and operation.ipynb',\n",
       " '06. Set and operation.ipynb',\n",
       " '07. Dictionary and operations.ipynb',\n",
       " '08. Conditions-1.ipynb',\n",
       " '09. Conditions-2.ipynb',\n",
       " '10. Loops-1.ipynb',\n",
       " '11. loop-2.ipynb',\n",
       " '12. Loop-3.ipynb',\n",
       " '13. File_handling.ipynb',\n",
       " '14. Try and Except, Logging.ipynb',\n",
       " 'Anaconda3-2025.06-0-Windows-x86_64 (1).exe',\n",
       " 'application.pdf',\n",
       " 'birth.jpeg',\n",
       " 'desktop.ini',\n",
       " 'details (1).pdf',\n",
       " 'details (2).pdf',\n",
       " 'details.pdf',\n",
       " 'EFFD766898.pdf',\n",
       " 'EFFD902204.pdf',\n",
       " 'english.txt',\n",
       " 'ideaIC-2024.1.4.exe',\n",
       " 'IMG-20240816-WA0002.jpg',\n",
       " 'jdk-22_windows-x64_bin.msi',\n",
       " 'MSB.exe',\n",
       " 'organic-1.0.0 (1)',\n",
       " 'OTR-10023441867.pdf',\n",
       " 'photo.jpeg',\n",
       " 'py code.txt',\n",
       " 'pynewfolder',\n",
       " 'sabtool_win8_10_11_v170530.zip',\n",
       " 'SALONI RESUME NEW.docx',\n",
       " 'saloni.docx',\n",
       " 'SteamSetup.exe',\n",
       " 'VAISHNAVI KHADE.pdf',\n",
       " 'voter.jpeg',\n",
       " 'VSCodeUserSetup-x64-1.103.0.exe',\n",
       " 'WhatsApp Installer.exe']"
      ]
     },
     "execution_count": 22,
     "metadata": {},
     "output_type": "execute_result"
    }
   ],
   "source": [
    "os.listdir()"
   ]
  },
  {
   "cell_type": "markdown",
   "id": "0e6e0efa-410b-405d-b154-ca7eb324dc59",
   "metadata": {},
   "source": [
    "## 44. Check the size of a file using os module."
   ]
  },
  {
   "cell_type": "code",
   "execution_count": 21,
   "id": "31705183-26c1-4270-8555-0209e3a3d7a7",
   "metadata": {},
   "outputs": [
    {
     "name": "stdout",
     "output_type": "stream",
     "text": [
      "File size of demo1.txt is: 17 bytes\n"
     ]
    }
   ],
   "source": [
    "filename = \"demo1.txt\"\n",
    "size = os.path.getsize(filename)\n",
    "print(f\"File size of {filename} is: {size} bytes\")"
   ]
  },
  {
   "cell_type": "markdown",
   "id": "4540f920-681a-42ab-b535-538854bb444d",
   "metadata": {},
   "source": [
    "## 45. Count all .txt files in a directory."
   ]
  },
  {
   "cell_type": "code",
   "execution_count": 15,
   "id": "63472ada-5bbf-4641-9cce-f52a3aceeba7",
   "metadata": {},
   "outputs": [
    {
     "name": "stdout",
     "output_type": "stream",
     "text": [
      "{'.txt files:', 6}\n"
     ]
    }
   ],
   "source": [
    "files = os.listdir()\n",
    "count = 0\n",
    "\n",
    "for f in files:\n",
    "    if f.endswith(\".txt\"):\n",
    "        count += 1\n",
    "result = {\".txt files:\", count}\n",
    "print(result)"
   ]
  },
  {
   "cell_type": "markdown",
   "id": "938b4806-5d64-4a83-8bbf-8aceb3c9ee3f",
   "metadata": {},
   "source": [
    "## 10. Try-Exception (5 Questions)"
   ]
  },
  {
   "cell_type": "markdown",
   "id": "0a94ebfa-1e42-45d5-a3f2-1b24d96e8e94",
   "metadata": {},
   "source": [
    "## 46. Write a program that takes user input and prints its square. Handle errors if input is invalid"
   ]
  },
  {
   "cell_type": "code",
   "execution_count": 27,
   "id": "640c5f3c-a773-4b1d-9549-fd7645aad882",
   "metadata": {},
   "outputs": [
    {
     "name": "stdin",
     "output_type": "stream",
     "text": [
      "Enter a number:  6\n"
     ]
    },
    {
     "name": "stdout",
     "output_type": "stream",
     "text": [
      "Square is: 36\n"
     ]
    }
   ],
   "source": [
    "try:\n",
    "    var = int(input(\"Enter a number: \"))\n",
    "    print(\"Square is:\", var**2)\n",
    "except ValueError:\n",
    "    print(\"Invalid input! Please enter a number.\")"
   ]
  },
  {
   "cell_type": "markdown",
   "id": "04a19b1c-1cae-4d02-b320-bf86bb196262",
   "metadata": {},
   "source": [
    "## 47. Handle ZeroDivisionError with an example program."
   ]
  },
  {
   "cell_type": "code",
   "execution_count": 43,
   "id": "663f1d91-eb57-4c90-a278-6a947527bbba",
   "metadata": {},
   "outputs": [
    {
     "name": "stdin",
     "output_type": "stream",
     "text": [
      "Enter a number:  0\n"
     ]
    },
    {
     "name": "stdout",
     "output_type": "stream",
     "text": [
      "Error occurred: division by zero\n",
      "Execution completed.\n"
     ]
    }
   ],
   "source": [
    "try:\n",
    "    x = int(input(\"Enter a number: \"))\n",
    "    y = 10 / x\n",
    "    print(f\"Result: {y}\")\n",
    "except Exception as e:\n",
    "    print(f\"Error occurred: {e}\")\n",
    "else:\n",
    "    print(\"No exceptions occurred.\")\n",
    "finally:\n",
    "    print(\"Execution completed.\")"
   ]
  },
  {
   "cell_type": "markdown",
   "id": "430d9b73-937c-42b1-8c5d-785799d16651",
   "metadata": {},
   "source": [
    "## 48. Handle FileNotFoundError with an example program."
   ]
  },
  {
   "cell_type": "code",
   "execution_count": 5,
   "id": "092ec59f-8920-466a-9a6d-3514d6de0408",
   "metadata": {},
   "outputs": [
    {
     "name": "stdout",
     "output_type": "stream",
     "text": [
      "Error: the file could not be found.\n"
     ]
    }
   ],
   "source": [
    "try:\n",
    "    with open('nonexistent_file.txt', 'r') as file:\n",
    "        content = file.read()\n",
    "        print(content)\n",
    "except FileNotFoundError:\n",
    "    print(\"Error: the file could not be found.\")"
   ]
  },
  {
   "cell_type": "markdown",
   "id": "8105a79a-e6bc-4e3f-9ba7-7a3ac6a9dacc",
   "metadata": {},
   "source": [
    "## 49. Handle both ValueError and TypeError with an example."
   ]
  },
  {
   "cell_type": "code",
   "execution_count": 31,
   "id": "8ad045a6-75f4-4190-b230-e8d0d620cbf8",
   "metadata": {},
   "outputs": [
    {
     "name": "stdin",
     "output_type": "stream",
     "text": [
      "Enter a number:  5\n"
     ]
    },
    {
     "name": "stdout",
     "output_type": "stream",
     "text": [
      "typeError: Cannot add number and string togther!\n"
     ]
    }
   ],
   "source": [
    "try:\n",
    "    u_input = int(input(\"Enter a number: \"))\n",
    "    result = u_input + \"5\"\n",
    "    print(result)\n",
    "except ValueError:\n",
    "    print(\"ValueError: please enter number only!\")\n",
    "except TypeError:\n",
    "    print(\"typeError: Cannot add number and string togther!\")\n",
    "\n",
    "    "
   ]
  },
  {
   "cell_type": "markdown",
   "id": "95c9e9db-e5c8-4490-843e-44e5f4b209d8",
   "metadata": {},
   "source": [
    "## 50. Write a program with finally block that opens and closes a file."
   ]
  },
  {
   "cell_type": "code",
   "execution_count": 28,
   "id": "bd4634eb-bf3d-4f97-8a31-8ae6b7877f06",
   "metadata": {},
   "outputs": [
    {
     "name": "stdin",
     "output_type": "stream",
     "text": [
      "Enter a number:  3\n"
     ]
    },
    {
     "name": "stdout",
     "output_type": "stream",
     "text": [
      "Result: 3.3333333333333335\n",
      "No exceptions occurred.\n",
      "file closed successfully.\n"
     ]
    }
   ],
   "source": [
    "try:\n",
    "    x = int(input(\"Enter a number: \"))\n",
    "    y = 10 / x\n",
    "    print(f\"Result: {y}\")\n",
    "except Exception as e:\n",
    "    print(f\"Error occurred: {e}\")\n",
    "else:\n",
    "    print(\"No exceptions occurred.\")\n",
    "finally:\n",
    "    print(\"file closed successfully.\")"
   ]
  },
  {
   "cell_type": "code",
   "execution_count": null,
   "id": "073cb388-24bf-44e6-8079-7711414c2bff",
   "metadata": {},
   "outputs": [],
   "source": []
  }
 ],
 "metadata": {
  "kernelspec": {
   "display_name": "Python [conda env:base] *",
   "language": "python",
   "name": "conda-base-py"
  },
  "language_info": {
   "codemirror_mode": {
    "name": "ipython",
    "version": 3
   },
   "file_extension": ".py",
   "mimetype": "text/x-python",
   "name": "python",
   "nbconvert_exporter": "python",
   "pygments_lexer": "ipython3",
   "version": "3.13.5"
  }
 },
 "nbformat": 4,
 "nbformat_minor": 5
}
